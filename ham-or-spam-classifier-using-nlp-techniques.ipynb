{
 "cells": [
  {
   "cell_type": "code",
   "execution_count": 1,
   "id": "6a668257",
   "metadata": {
    "execution": {
     "iopub.execute_input": "2024-07-13T10:21:41.020738Z",
     "iopub.status.busy": "2024-07-13T10:21:41.020446Z",
     "iopub.status.idle": "2024-07-13T10:21:41.729656Z",
     "shell.execute_reply": "2024-07-13T10:21:41.728681Z"
    },
    "papermill": {
     "duration": 0.727271,
     "end_time": "2024-07-13T10:21:41.732053",
     "exception": false,
     "start_time": "2024-07-13T10:21:41.004782",
     "status": "completed"
    },
    "tags": []
   },
   "outputs": [],
   "source": [
    "# Import necessary libraries\n",
    "import numpy as np\n",
    "import pandas as pd"
   ]
  },
  {
   "cell_type": "code",
   "execution_count": 2,
   "id": "713ee0d3",
   "metadata": {
    "execution": {
     "iopub.execute_input": "2024-07-13T10:21:41.762312Z",
     "iopub.status.busy": "2024-07-13T10:21:41.761406Z",
     "iopub.status.idle": "2024-07-13T10:21:41.793166Z",
     "shell.execute_reply": "2024-07-13T10:21:41.792488Z"
    },
    "papermill": {
     "duration": 0.048595,
     "end_time": "2024-07-13T10:21:41.795038",
     "exception": false,
     "start_time": "2024-07-13T10:21:41.746443",
     "status": "completed"
    },
    "tags": []
   },
   "outputs": [],
   "source": [
    "#read the data\n",
    "df = pd.read_csv(r'C:\\Users\\Public\\Downloads\\machine learning projects\\spam.csv', encoding='latin1')"
   ]
  },
  {
   "cell_type": "code",
   "execution_count": 3,
   "id": "73ca01c5",
   "metadata": {
    "execution": {
     "iopub.execute_input": "2024-07-13T10:21:41.823960Z",
     "iopub.status.busy": "2024-07-13T10:21:41.823720Z",
     "iopub.status.idle": "2024-07-13T10:21:41.841722Z",
     "shell.execute_reply": "2024-07-13T10:21:41.840885Z"
    },
    "papermill": {
     "duration": 0.034694,
     "end_time": "2024-07-13T10:21:41.843713",
     "exception": false,
     "start_time": "2024-07-13T10:21:41.809019",
     "status": "completed"
    },
    "tags": []
   },
   "outputs": [
    {
     "data": {
      "text/html": [
       "<div>\n",
       "<style scoped>\n",
       "    .dataframe tbody tr th:only-of-type {\n",
       "        vertical-align: middle;\n",
       "    }\n",
       "\n",
       "    .dataframe tbody tr th {\n",
       "        vertical-align: top;\n",
       "    }\n",
       "\n",
       "    .dataframe thead th {\n",
       "        text-align: right;\n",
       "    }\n",
       "</style>\n",
       "<table border=\"1\" class=\"dataframe\">\n",
       "  <thead>\n",
       "    <tr style=\"text-align: right;\">\n",
       "      <th></th>\n",
       "      <th>v1</th>\n",
       "      <th>v2</th>\n",
       "      <th>Unnamed: 2</th>\n",
       "      <th>Unnamed: 3</th>\n",
       "      <th>Unnamed: 4</th>\n",
       "    </tr>\n",
       "  </thead>\n",
       "  <tbody>\n",
       "    <tr>\n",
       "      <th>0</th>\n",
       "      <td>ham</td>\n",
       "      <td>Go until jurong point, crazy.. Available only ...</td>\n",
       "      <td>NaN</td>\n",
       "      <td>NaN</td>\n",
       "      <td>NaN</td>\n",
       "    </tr>\n",
       "    <tr>\n",
       "      <th>1</th>\n",
       "      <td>ham</td>\n",
       "      <td>Ok lar... Joking wif u oni...</td>\n",
       "      <td>NaN</td>\n",
       "      <td>NaN</td>\n",
       "      <td>NaN</td>\n",
       "    </tr>\n",
       "    <tr>\n",
       "      <th>2</th>\n",
       "      <td>spam</td>\n",
       "      <td>Free entry in 2 a wkly comp to win FA Cup fina...</td>\n",
       "      <td>NaN</td>\n",
       "      <td>NaN</td>\n",
       "      <td>NaN</td>\n",
       "    </tr>\n",
       "    <tr>\n",
       "      <th>3</th>\n",
       "      <td>ham</td>\n",
       "      <td>U dun say so early hor... U c already then say...</td>\n",
       "      <td>NaN</td>\n",
       "      <td>NaN</td>\n",
       "      <td>NaN</td>\n",
       "    </tr>\n",
       "    <tr>\n",
       "      <th>4</th>\n",
       "      <td>ham</td>\n",
       "      <td>Nah I don't think he goes to usf, he lives aro...</td>\n",
       "      <td>NaN</td>\n",
       "      <td>NaN</td>\n",
       "      <td>NaN</td>\n",
       "    </tr>\n",
       "    <tr>\n",
       "      <th>5</th>\n",
       "      <td>spam</td>\n",
       "      <td>FreeMsg Hey there darling it's been 3 week's n...</td>\n",
       "      <td>NaN</td>\n",
       "      <td>NaN</td>\n",
       "      <td>NaN</td>\n",
       "    </tr>\n",
       "    <tr>\n",
       "      <th>6</th>\n",
       "      <td>ham</td>\n",
       "      <td>Even my brother is not like to speak with me. ...</td>\n",
       "      <td>NaN</td>\n",
       "      <td>NaN</td>\n",
       "      <td>NaN</td>\n",
       "    </tr>\n",
       "    <tr>\n",
       "      <th>7</th>\n",
       "      <td>ham</td>\n",
       "      <td>As per your request 'Melle Melle (Oru Minnamin...</td>\n",
       "      <td>NaN</td>\n",
       "      <td>NaN</td>\n",
       "      <td>NaN</td>\n",
       "    </tr>\n",
       "    <tr>\n",
       "      <th>8</th>\n",
       "      <td>spam</td>\n",
       "      <td>WINNER!! As a valued network customer you have...</td>\n",
       "      <td>NaN</td>\n",
       "      <td>NaN</td>\n",
       "      <td>NaN</td>\n",
       "    </tr>\n",
       "    <tr>\n",
       "      <th>9</th>\n",
       "      <td>spam</td>\n",
       "      <td>Had your mobile 11 months or more? U R entitle...</td>\n",
       "      <td>NaN</td>\n",
       "      <td>NaN</td>\n",
       "      <td>NaN</td>\n",
       "    </tr>\n",
       "  </tbody>\n",
       "</table>\n",
       "</div>"
      ],
      "text/plain": [
       "     v1                                                 v2 Unnamed: 2  \\\n",
       "0   ham  Go until jurong point, crazy.. Available only ...        NaN   \n",
       "1   ham                      Ok lar... Joking wif u oni...        NaN   \n",
       "2  spam  Free entry in 2 a wkly comp to win FA Cup fina...        NaN   \n",
       "3   ham  U dun say so early hor... U c already then say...        NaN   \n",
       "4   ham  Nah I don't think he goes to usf, he lives aro...        NaN   \n",
       "5  spam  FreeMsg Hey there darling it's been 3 week's n...        NaN   \n",
       "6   ham  Even my brother is not like to speak with me. ...        NaN   \n",
       "7   ham  As per your request 'Melle Melle (Oru Minnamin...        NaN   \n",
       "8  spam  WINNER!! As a valued network customer you have...        NaN   \n",
       "9  spam  Had your mobile 11 months or more? U R entitle...        NaN   \n",
       "\n",
       "  Unnamed: 3 Unnamed: 4  \n",
       "0        NaN        NaN  \n",
       "1        NaN        NaN  \n",
       "2        NaN        NaN  \n",
       "3        NaN        NaN  \n",
       "4        NaN        NaN  \n",
       "5        NaN        NaN  \n",
       "6        NaN        NaN  \n",
       "7        NaN        NaN  \n",
       "8        NaN        NaN  \n",
       "9        NaN        NaN  "
      ]
     },
     "execution_count": 3,
     "metadata": {},
     "output_type": "execute_result"
    }
   ],
   "source": [
    "#display the first 10 rows\n",
    "df.head(10)"
   ]
  },
  {
   "cell_type": "code",
   "execution_count": 4,
   "id": "d4e45dd0",
   "metadata": {
    "execution": {
     "iopub.execute_input": "2024-07-13T10:21:41.876674Z",
     "iopub.status.busy": "2024-07-13T10:21:41.875830Z",
     "iopub.status.idle": "2024-07-13T10:21:41.898734Z",
     "shell.execute_reply": "2024-07-13T10:21:41.897279Z"
    },
    "papermill": {
     "duration": 0.042943,
     "end_time": "2024-07-13T10:21:41.901577",
     "exception": false,
     "start_time": "2024-07-13T10:21:41.858634",
     "status": "completed"
    },
    "tags": []
   },
   "outputs": [
    {
     "name": "stdout",
     "output_type": "stream",
     "text": [
      "<class 'pandas.core.frame.DataFrame'>\n",
      "RangeIndex: 5572 entries, 0 to 5571\n",
      "Data columns (total 5 columns):\n",
      " #   Column      Non-Null Count  Dtype \n",
      "---  ------      --------------  ----- \n",
      " 0   v1          5572 non-null   object\n",
      " 1   v2          5572 non-null   object\n",
      " 2   Unnamed: 2  50 non-null     object\n",
      " 3   Unnamed: 3  12 non-null     object\n",
      " 4   Unnamed: 4  6 non-null      object\n",
      "dtypes: object(5)\n",
      "memory usage: 217.8+ KB\n"
     ]
    }
   ],
   "source": [
    "df.info()"
   ]
  },
  {
   "cell_type": "markdown",
   "id": "99f4429e",
   "metadata": {
    "papermill": {
     "duration": 0.014395,
     "end_time": "2024-07-13T10:21:41.930986",
     "exception": false,
     "start_time": "2024-07-13T10:21:41.916591",
     "status": "completed"
    },
    "tags": []
   },
   "source": [
    "* shape of data (5572,5)\n",
    "* these are 5 rows ,v1 will be the target , v2 will be the message , others will be dropped\n",
    "* data contains Nulls in unnecessary cols\n"
   ]
  },
  {
   "cell_type": "code",
   "execution_count": 5,
   "id": "fc8e902c",
   "metadata": {
    "execution": {
     "iopub.execute_input": "2024-07-13T10:21:41.997974Z",
     "iopub.status.busy": "2024-07-13T10:21:41.997726Z",
     "iopub.status.idle": "2024-07-13T10:21:42.003264Z",
     "shell.execute_reply": "2024-07-13T10:21:42.002431Z"
    },
    "papermill": {
     "duration": 0.024475,
     "end_time": "2024-07-13T10:21:42.005138",
     "exception": false,
     "start_time": "2024-07-13T10:21:41.980663",
     "status": "completed"
    },
    "tags": []
   },
   "outputs": [
    {
     "data": {
      "text/plain": [
       "Index(['v1', 'v2', 'Unnamed: 2', 'Unnamed: 3', 'Unnamed: 4'], dtype='object')"
      ]
     },
     "execution_count": 5,
     "metadata": {},
     "output_type": "execute_result"
    }
   ],
   "source": [
    "#get cols names\n",
    "df.columns"
   ]
  },
  {
   "cell_type": "code",
   "execution_count": 6,
   "id": "be88351d",
   "metadata": {
    "execution": {
     "iopub.execute_input": "2024-07-13T10:21:42.035435Z",
     "iopub.status.busy": "2024-07-13T10:21:42.034958Z",
     "iopub.status.idle": "2024-07-13T10:21:42.048434Z",
     "shell.execute_reply": "2024-07-13T10:21:42.047551Z"
    },
    "papermill": {
     "duration": 0.030849,
     "end_time": "2024-07-13T10:21:42.050519",
     "exception": false,
     "start_time": "2024-07-13T10:21:42.019670",
     "status": "completed"
    },
    "tags": []
   },
   "outputs": [
    {
     "data": {
      "text/html": [
       "<div>\n",
       "<style scoped>\n",
       "    .dataframe tbody tr th:only-of-type {\n",
       "        vertical-align: middle;\n",
       "    }\n",
       "\n",
       "    .dataframe tbody tr th {\n",
       "        vertical-align: top;\n",
       "    }\n",
       "\n",
       "    .dataframe thead th {\n",
       "        text-align: right;\n",
       "    }\n",
       "</style>\n",
       "<table border=\"1\" class=\"dataframe\">\n",
       "  <thead>\n",
       "    <tr style=\"text-align: right;\">\n",
       "      <th></th>\n",
       "      <th>v1</th>\n",
       "      <th>v2</th>\n",
       "    </tr>\n",
       "  </thead>\n",
       "  <tbody>\n",
       "    <tr>\n",
       "      <th>0</th>\n",
       "      <td>ham</td>\n",
       "      <td>Go until jurong point, crazy.. Available only ...</td>\n",
       "    </tr>\n",
       "    <tr>\n",
       "      <th>1</th>\n",
       "      <td>ham</td>\n",
       "      <td>Ok lar... Joking wif u oni...</td>\n",
       "    </tr>\n",
       "    <tr>\n",
       "      <th>2</th>\n",
       "      <td>spam</td>\n",
       "      <td>Free entry in 2 a wkly comp to win FA Cup fina...</td>\n",
       "    </tr>\n",
       "    <tr>\n",
       "      <th>3</th>\n",
       "      <td>ham</td>\n",
       "      <td>U dun say so early hor... U c already then say...</td>\n",
       "    </tr>\n",
       "    <tr>\n",
       "      <th>4</th>\n",
       "      <td>ham</td>\n",
       "      <td>Nah I don't think he goes to usf, he lives aro...</td>\n",
       "    </tr>\n",
       "    <tr>\n",
       "      <th>...</th>\n",
       "      <td>...</td>\n",
       "      <td>...</td>\n",
       "    </tr>\n",
       "    <tr>\n",
       "      <th>5567</th>\n",
       "      <td>spam</td>\n",
       "      <td>This is the 2nd time we have tried 2 contact u...</td>\n",
       "    </tr>\n",
       "    <tr>\n",
       "      <th>5568</th>\n",
       "      <td>ham</td>\n",
       "      <td>Will Ì_ b going to esplanade fr home?</td>\n",
       "    </tr>\n",
       "    <tr>\n",
       "      <th>5569</th>\n",
       "      <td>ham</td>\n",
       "      <td>Pity, * was in mood for that. So...any other s...</td>\n",
       "    </tr>\n",
       "    <tr>\n",
       "      <th>5570</th>\n",
       "      <td>ham</td>\n",
       "      <td>The guy did some bitching but I acted like i'd...</td>\n",
       "    </tr>\n",
       "    <tr>\n",
       "      <th>5571</th>\n",
       "      <td>ham</td>\n",
       "      <td>Rofl. Its true to its name</td>\n",
       "    </tr>\n",
       "  </tbody>\n",
       "</table>\n",
       "<p>5572 rows × 2 columns</p>\n",
       "</div>"
      ],
      "text/plain": [
       "        v1                                                 v2\n",
       "0      ham  Go until jurong point, crazy.. Available only ...\n",
       "1      ham                      Ok lar... Joking wif u oni...\n",
       "2     spam  Free entry in 2 a wkly comp to win FA Cup fina...\n",
       "3      ham  U dun say so early hor... U c already then say...\n",
       "4      ham  Nah I don't think he goes to usf, he lives aro...\n",
       "...    ...                                                ...\n",
       "5567  spam  This is the 2nd time we have tried 2 contact u...\n",
       "5568   ham              Will Ì_ b going to esplanade fr home?\n",
       "5569   ham  Pity, * was in mood for that. So...any other s...\n",
       "5570   ham  The guy did some bitching but I acted like i'd...\n",
       "5571   ham                         Rofl. Its true to its name\n",
       "\n",
       "[5572 rows x 2 columns]"
      ]
     },
     "execution_count": 6,
     "metadata": {},
     "output_type": "execute_result"
    }
   ],
   "source": [
    "#drop unnecessary cols\n",
    "df.drop(columns=['Unnamed: 2', 'Unnamed: 3', 'Unnamed: 4'],inplace=True)\n",
    "df"
   ]
  },
  {
   "cell_type": "code",
   "execution_count": 7,
   "id": "0c12d76c",
   "metadata": {
    "execution": {
     "iopub.execute_input": "2024-07-13T10:21:42.081385Z",
     "iopub.status.busy": "2024-07-13T10:21:42.080806Z",
     "iopub.status.idle": "2024-07-13T10:21:42.090423Z",
     "shell.execute_reply": "2024-07-13T10:21:42.089655Z"
    },
    "papermill": {
     "duration": 0.026941,
     "end_time": "2024-07-13T10:21:42.092367",
     "exception": false,
     "start_time": "2024-07-13T10:21:42.065426",
     "status": "completed"
    },
    "tags": []
   },
   "outputs": [
    {
     "data": {
      "text/html": [
       "<div>\n",
       "<style scoped>\n",
       "    .dataframe tbody tr th:only-of-type {\n",
       "        vertical-align: middle;\n",
       "    }\n",
       "\n",
       "    .dataframe tbody tr th {\n",
       "        vertical-align: top;\n",
       "    }\n",
       "\n",
       "    .dataframe thead th {\n",
       "        text-align: right;\n",
       "    }\n",
       "</style>\n",
       "<table border=\"1\" class=\"dataframe\">\n",
       "  <thead>\n",
       "    <tr style=\"text-align: right;\">\n",
       "      <th></th>\n",
       "      <th>output</th>\n",
       "      <th>sms/email</th>\n",
       "    </tr>\n",
       "  </thead>\n",
       "  <tbody>\n",
       "    <tr>\n",
       "      <th>0</th>\n",
       "      <td>ham</td>\n",
       "      <td>Go until jurong point, crazy.. Available only ...</td>\n",
       "    </tr>\n",
       "    <tr>\n",
       "      <th>1</th>\n",
       "      <td>ham</td>\n",
       "      <td>Ok lar... Joking wif u oni...</td>\n",
       "    </tr>\n",
       "    <tr>\n",
       "      <th>2</th>\n",
       "      <td>spam</td>\n",
       "      <td>Free entry in 2 a wkly comp to win FA Cup fina...</td>\n",
       "    </tr>\n",
       "    <tr>\n",
       "      <th>3</th>\n",
       "      <td>ham</td>\n",
       "      <td>U dun say so early hor... U c already then say...</td>\n",
       "    </tr>\n",
       "    <tr>\n",
       "      <th>4</th>\n",
       "      <td>ham</td>\n",
       "      <td>Nah I don't think he goes to usf, he lives aro...</td>\n",
       "    </tr>\n",
       "    <tr>\n",
       "      <th>...</th>\n",
       "      <td>...</td>\n",
       "      <td>...</td>\n",
       "    </tr>\n",
       "    <tr>\n",
       "      <th>5567</th>\n",
       "      <td>spam</td>\n",
       "      <td>This is the 2nd time we have tried 2 contact u...</td>\n",
       "    </tr>\n",
       "    <tr>\n",
       "      <th>5568</th>\n",
       "      <td>ham</td>\n",
       "      <td>Will Ì_ b going to esplanade fr home?</td>\n",
       "    </tr>\n",
       "    <tr>\n",
       "      <th>5569</th>\n",
       "      <td>ham</td>\n",
       "      <td>Pity, * was in mood for that. So...any other s...</td>\n",
       "    </tr>\n",
       "    <tr>\n",
       "      <th>5570</th>\n",
       "      <td>ham</td>\n",
       "      <td>The guy did some bitching but I acted like i'd...</td>\n",
       "    </tr>\n",
       "    <tr>\n",
       "      <th>5571</th>\n",
       "      <td>ham</td>\n",
       "      <td>Rofl. Its true to its name</td>\n",
       "    </tr>\n",
       "  </tbody>\n",
       "</table>\n",
       "<p>5572 rows × 2 columns</p>\n",
       "</div>"
      ],
      "text/plain": [
       "     output                                          sms/email\n",
       "0       ham  Go until jurong point, crazy.. Available only ...\n",
       "1       ham                      Ok lar... Joking wif u oni...\n",
       "2      spam  Free entry in 2 a wkly comp to win FA Cup fina...\n",
       "3       ham  U dun say so early hor... U c already then say...\n",
       "4       ham  Nah I don't think he goes to usf, he lives aro...\n",
       "...     ...                                                ...\n",
       "5567   spam  This is the 2nd time we have tried 2 contact u...\n",
       "5568    ham              Will Ì_ b going to esplanade fr home?\n",
       "5569    ham  Pity, * was in mood for that. So...any other s...\n",
       "5570    ham  The guy did some bitching but I acted like i'd...\n",
       "5571    ham                         Rofl. Its true to its name\n",
       "\n",
       "[5572 rows x 2 columns]"
      ]
     },
     "execution_count": 7,
     "metadata": {},
     "output_type": "execute_result"
    }
   ],
   "source": [
    "#rename cols\n",
    "df.rename(columns={'v1':'output','v2':'sms/email'},inplace=True)\n",
    "df"
   ]
  },
  {
   "cell_type": "code",
   "execution_count": 8,
   "id": "2217cf38",
   "metadata": {
    "execution": {
     "iopub.execute_input": "2024-07-13T10:21:42.125043Z",
     "iopub.status.busy": "2024-07-13T10:21:42.124362Z",
     "iopub.status.idle": "2024-07-13T10:21:42.131928Z",
     "shell.execute_reply": "2024-07-13T10:21:42.131115Z"
    },
    "papermill": {
     "duration": 0.025254,
     "end_time": "2024-07-13T10:21:42.133899",
     "exception": false,
     "start_time": "2024-07-13T10:21:42.108645",
     "status": "completed"
    },
    "tags": []
   },
   "outputs": [
    {
     "data": {
      "text/plain": [
       "output       0\n",
       "sms/email    0\n",
       "dtype: int64"
      ]
     },
     "execution_count": 8,
     "metadata": {},
     "output_type": "execute_result"
    }
   ],
   "source": [
    "#check Nulls\n",
    "df.isnull().sum()"
   ]
  },
  {
   "cell_type": "code",
   "execution_count": 9,
   "id": "acd7cf63",
   "metadata": {
    "execution": {
     "iopub.execute_input": "2024-07-13T10:21:42.165661Z",
     "iopub.status.busy": "2024-07-13T10:21:42.165022Z",
     "iopub.status.idle": "2024-07-13T10:21:42.173989Z",
     "shell.execute_reply": "2024-07-13T10:21:42.173195Z"
    },
    "papermill": {
     "duration": 0.02707,
     "end_time": "2024-07-13T10:21:42.175923",
     "exception": false,
     "start_time": "2024-07-13T10:21:42.148853",
     "status": "completed"
    },
    "tags": []
   },
   "outputs": [
    {
     "data": {
      "text/plain": [
       "(403, (5572, 2))"
      ]
     },
     "execution_count": 9,
     "metadata": {},
     "output_type": "execute_result"
    }
   ],
   "source": [
    "#check duplicates\n",
    "num_duplicates = df.duplicated().sum()\n",
    "num_duplicates, df.shape #shape before dropping "
   ]
  },
  {
   "cell_type": "code",
   "execution_count": 10,
   "id": "d8687f1f",
   "metadata": {
    "execution": {
     "iopub.execute_input": "2024-07-13T10:21:42.207477Z",
     "iopub.status.busy": "2024-07-13T10:21:42.207218Z",
     "iopub.status.idle": "2024-07-13T10:21:42.215770Z",
     "shell.execute_reply": "2024-07-13T10:21:42.214942Z"
    },
    "papermill": {
     "duration": 0.026527,
     "end_time": "2024-07-13T10:21:42.217604",
     "exception": false,
     "start_time": "2024-07-13T10:21:42.191077",
     "status": "completed"
    },
    "tags": []
   },
   "outputs": [
    {
     "data": {
      "text/plain": [
       "(5169, 2)"
      ]
     },
     "execution_count": 10,
     "metadata": {},
     "output_type": "execute_result"
    }
   ],
   "source": [
    "#drop duplicates\n",
    "df = df.drop_duplicates(keep='first')\n",
    "df.shape #shape after dropping "
   ]
  },
  {
   "cell_type": "code",
   "execution_count": 11,
   "id": "2ade3c19",
   "metadata": {
    "execution": {
     "iopub.execute_input": "2024-07-13T10:21:42.248974Z",
     "iopub.status.busy": "2024-07-13T10:21:42.248724Z",
     "iopub.status.idle": "2024-07-13T10:21:42.518742Z",
     "shell.execute_reply": "2024-07-13T10:21:42.517871Z"
    },
    "papermill": {
     "duration": 0.287926,
     "end_time": "2024-07-13T10:21:42.520679",
     "exception": false,
     "start_time": "2024-07-13T10:21:42.232753",
     "status": "completed"
    },
    "tags": []
   },
   "outputs": [
    {
     "data": {
      "image/png": "[encoded data removed]",
      "text/plain": [
       "<Figure size 800x600 with 1 Axes>"
      ]
     },
     "metadata": {},
     "output_type": "display_data"
    }
   ],
   "source": [
    "import matplotlib.pyplot as plt\n",
    "\n",
    "\n",
    "value_counts = df['output'].value_counts()\n",
    "value_counts\n",
    "\n",
    "\n",
    "plt.figure(figsize=(8, 6))\n",
    "ax = value_counts.plot(kind='bar', color=['blue', 'red'])\n",
    "plt.title('Distribution of Target col')\n",
    "plt.xlabel('Labels')\n",
    "plt.ylabel('Count')\n",
    "\n",
    "#add num above each col\n",
    "for container in ax.containers:\n",
    "    ax.bar_label(container, label_type='edge')\n",
    "\n",
    "plt.show()"
   ]
  },
  {
   "cell_type": "code",
   "execution_count": 12,
   "id": "d22105cf",
   "metadata": {
    "execution": {
     "iopub.execute_input": "2024-07-13T10:21:42.584641Z",
     "iopub.status.busy": "2024-07-13T10:21:42.584368Z",
     "iopub.status.idle": "2024-07-13T10:21:42.594115Z",
     "shell.execute_reply": "2024-07-13T10:21:42.593072Z"
    },
    "papermill": {
     "duration": 0.028362,
     "end_time": "2024-07-13T10:21:42.596363",
     "exception": false,
     "start_time": "2024-07-13T10:21:42.568001",
     "status": "completed"
    },
    "tags": []
   },
   "outputs": [
    {
     "name": "stderr",
     "output_type": "stream",
     "text": [
      "/tmp/ipykernel_24/3615693611.py:2: SettingWithCopyWarning: \n",
      "A value is trying to be set on a copy of a slice from a DataFrame.\n",
      "Try using .loc[row_indexer,col_indexer] = value instead\n",
      "\n",
      "See the caveats in the documentation: https://pandas.pydata.org/pandas-docs/stable/user_guide/indexing.html#returning-a-view-versus-a-copy\n",
      "  df['output'] = df['output'].map({'ham': 0, 'spam': 1})\n"
     ]
    },
    {
     "data": {
      "text/plain": [
       "0       0\n",
       "1       0\n",
       "2       1\n",
       "3       0\n",
       "4       0\n",
       "       ..\n",
       "5567    1\n",
       "5568    0\n",
       "5569    0\n",
       "5570    0\n",
       "5571    0\n",
       "Name: output, Length: 5169, dtype: int64"
      ]
     },
     "execution_count": 12,
     "metadata": {},
     "output_type": "execute_result"
    }
   ],
   "source": [
    "# Converting 'ham' to 0 and 'spam' to 1 (encoding)\n",
    "df['output'] = df['output'].map({'ham': 0, 'spam': 1})\n",
    "df['output']"
   ]
  },
  {
   "cell_type": "code",
   "execution_count": 13,
   "id": "11e36eae",
   "metadata": {
    "execution": {
     "iopub.execute_input": "2024-07-13T10:21:42.630381Z",
     "iopub.status.busy": "2024-07-13T10:21:42.630089Z",
     "iopub.status.idle": "2024-07-13T10:21:44.279118Z",
     "shell.execute_reply": "2024-07-13T10:21:44.278082Z"
    },
    "papermill": {
     "duration": 1.667921,
     "end_time": "2024-07-13T10:21:44.281062",
     "exception": false,
     "start_time": "2024-07-13T10:21:42.613141",
     "status": "completed"
    },
    "tags": []
   },
   "outputs": [
    {
     "name": "stdout",
     "output_type": "stream",
     "text": [
      "[nltk_data] Downloading package punkt to /usr/share/nltk_data...\n",
      "[nltk_data]   Package punkt is already up-to-date!\n"
     ]
    },
    {
     "data": {
      "text/plain": [
       "True"
      ]
     },
     "execution_count": 13,
     "metadata": {},
     "output_type": "execute_result"
    }
   ],
   "source": [
    "import nltk\n",
    "nltk.download('punkt')"
   ]
  },
  {
   "cell_type": "code",
   "execution_count": 14,
   "id": "80af6ec3",
   "metadata": {
    "execution": {
     "iopub.execute_input": "2024-07-13T10:21:44.314743Z",
     "iopub.status.busy": "2024-07-13T10:21:44.314445Z",
     "iopub.status.idle": "2024-07-13T10:21:44.330223Z",
     "shell.execute_reply": "2024-07-13T10:21:44.329119Z"
    },
    "papermill": {
     "duration": 0.034931,
     "end_time": "2024-07-13T10:21:44.332408",
     "exception": false,
     "start_time": "2024-07-13T10:21:44.297477",
     "status": "completed"
    },
    "tags": []
   },
   "outputs": [
    {
     "name": "stderr",
     "output_type": "stream",
     "text": [
      "/tmp/ipykernel_24/1227226066.py:2: SettingWithCopyWarning: \n",
      "A value is trying to be set on a copy of a slice from a DataFrame.\n",
      "Try using .loc[row_indexer,col_indexer] = value instead\n",
      "\n",
      "See the caveats in the documentation: https://pandas.pydata.org/pandas-docs/stable/user_guide/indexing.html#returning-a-view-versus-a-copy\n",
      "  df['num_of_chars']=df['sms/email'].apply(len)\n"
     ]
    },
    {
     "data": {
      "text/html": [
       "<div>\n",
       "<style scoped>\n",
       "    .dataframe tbody tr th:only-of-type {\n",
       "        vertical-align: middle;\n",
       "    }\n",
       "\n",
       "    .dataframe tbody tr th {\n",
       "        vertical-align: top;\n",
       "    }\n",
       "\n",
       "    .dataframe thead th {\n",
       "        text-align: right;\n",
       "    }\n",
       "</style>\n",
       "<table border=\"1\" class=\"dataframe\">\n",
       "  <thead>\n",
       "    <tr style=\"text-align: right;\">\n",
       "      <th></th>\n",
       "      <th>output</th>\n",
       "      <th>sms/email</th>\n",
       "      <th>num_of_chars</th>\n",
       "    </tr>\n",
       "  </thead>\n",
       "  <tbody>\n",
       "    <tr>\n",
       "      <th>0</th>\n",
       "      <td>0</td>\n",
       "      <td>Go until jurong point, crazy.. Available only ...</td>\n",
       "      <td>111</td>\n",
       "    </tr>\n",
       "    <tr>\n",
       "      <th>1</th>\n",
       "      <td>0</td>\n",
       "      <td>Ok lar... Joking wif u oni...</td>\n",
       "      <td>29</td>\n",
       "    </tr>\n",
       "    <tr>\n",
       "      <th>2</th>\n",
       "      <td>1</td>\n",
       "      <td>Free entry in 2 a wkly comp to win FA Cup fina...</td>\n",
       "      <td>155</td>\n",
       "    </tr>\n",
       "    <tr>\n",
       "      <th>3</th>\n",
       "      <td>0</td>\n",
       "      <td>U dun say so early hor... U c already then say...</td>\n",
       "      <td>49</td>\n",
       "    </tr>\n",
       "    <tr>\n",
       "      <th>4</th>\n",
       "      <td>0</td>\n",
       "      <td>Nah I don't think he goes to usf, he lives aro...</td>\n",
       "      <td>61</td>\n",
       "    </tr>\n",
       "    <tr>\n",
       "      <th>...</th>\n",
       "      <td>...</td>\n",
       "      <td>...</td>\n",
       "      <td>...</td>\n",
       "    </tr>\n",
       "    <tr>\n",
       "      <th>5567</th>\n",
       "      <td>1</td>\n",
       "      <td>This is the 2nd time we have tried 2 contact u...</td>\n",
       "      <td>161</td>\n",
       "    </tr>\n",
       "    <tr>\n",
       "      <th>5568</th>\n",
       "      <td>0</td>\n",
       "      <td>Will Ì_ b going to esplanade fr home?</td>\n",
       "      <td>37</td>\n",
       "    </tr>\n",
       "    <tr>\n",
       "      <th>5569</th>\n",
       "      <td>0</td>\n",
       "      <td>Pity, * was in mood for that. So...any other s...</td>\n",
       "      <td>57</td>\n",
       "    </tr>\n",
       "    <tr>\n",
       "      <th>5570</th>\n",
       "      <td>0</td>\n",
       "      <td>The guy did some bitching but I acted like i'd...</td>\n",
       "      <td>125</td>\n",
       "    </tr>\n",
       "    <tr>\n",
       "      <th>5571</th>\n",
       "      <td>0</td>\n",
       "      <td>Rofl. Its true to its name</td>\n",
       "      <td>26</td>\n",
       "    </tr>\n",
       "  </tbody>\n",
       "</table>\n",
       "<p>5169 rows × 3 columns</p>\n",
       "</div>"
      ],
      "text/plain": [
       "      output                                          sms/email  num_of_chars\n",
       "0          0  Go until jurong point, crazy.. Available only ...           111\n",
       "1          0                      Ok lar... Joking wif u oni...            29\n",
       "2          1  Free entry in 2 a wkly comp to win FA Cup fina...           155\n",
       "3          0  U dun say so early hor... U c already then say...            49\n",
       "4          0  Nah I don't think he goes to usf, he lives aro...            61\n",
       "...      ...                                                ...           ...\n",
       "5567       1  This is the 2nd time we have tried 2 contact u...           161\n",
       "5568       0              Will Ì_ b going to esplanade fr home?            37\n",
       "5569       0  Pity, * was in mood for that. So...any other s...            57\n",
       "5570       0  The guy did some bitching but I acted like i'd...           125\n",
       "5571       0                         Rofl. Its true to its name            26\n",
       "\n",
       "[5169 rows x 3 columns]"
      ]
     },
     "execution_count": 14,
     "metadata": {},
     "output_type": "execute_result"
    }
   ],
   "source": [
    "#get num of characters in each sms\n",
    "df['num_of_chars']=df['sms/email'].apply(len)\n",
    "df"
   ]
  },
  {
   "cell_type": "code",
   "execution_count": 15,
   "id": "833c8884",
   "metadata": {
    "execution": {
     "iopub.execute_input": "2024-07-13T10:21:44.399309Z",
     "iopub.status.busy": "2024-07-13T10:21:44.398757Z",
     "iopub.status.idle": "2024-07-13T10:21:45.899569Z",
     "shell.execute_reply": "2024-07-13T10:21:45.898444Z"
    },
    "papermill": {
     "duration": 1.520665,
     "end_time": "2024-07-13T10:21:45.901708",
     "exception": false,
     "start_time": "2024-07-13T10:21:44.381043",
     "status": "completed"
    },
    "tags": []
   },
   "outputs": [
    {
     "name": "stderr",
     "output_type": "stream",
     "text": [
      "/tmp/ipykernel_24/2144099265.py:11: SettingWithCopyWarning: \n",
      "A value is trying to be set on a copy of a slice from a DataFrame.\n",
      "Try using .loc[row_indexer,col_indexer] = value instead\n",
      "\n",
      "See the caveats in the documentation: https://pandas.pydata.org/pandas-docs/stable/user_guide/indexing.html#returning-a-view-versus-a-copy\n",
      "  df['tokenized_sms'] = tokenized_sms\n",
      "/tmp/ipykernel_24/2144099265.py:12: SettingWithCopyWarning: \n",
      "A value is trying to be set on a copy of a slice from a DataFrame.\n",
      "Try using .loc[row_indexer,col_indexer] = value instead\n",
      "\n",
      "See the caveats in the documentation: https://pandas.pydata.org/pandas-docs/stable/user_guide/indexing.html#returning-a-view-versus-a-copy\n",
      "  df['num_of_words'] = length_of_sms\n"
     ]
    },
    {
     "data": {
      "text/html": [
       "<div>\n",
       "<style scoped>\n",
       "    .dataframe tbody tr th:only-of-type {\n",
       "        vertical-align: middle;\n",
       "    }\n",
       "\n",
       "    .dataframe tbody tr th {\n",
       "        vertical-align: top;\n",
       "    }\n",
       "\n",
       "    .dataframe thead th {\n",
       "        text-align: right;\n",
       "    }\n",
       "</style>\n",
       "<table border=\"1\" class=\"dataframe\">\n",
       "  <thead>\n",
       "    <tr style=\"text-align: right;\">\n",
       "      <th></th>\n",
       "      <th>output</th>\n",
       "      <th>sms/email</th>\n",
       "      <th>num_of_chars</th>\n",
       "      <th>tokenized_sms</th>\n",
       "      <th>num_of_words</th>\n",
       "    </tr>\n",
       "  </thead>\n",
       "  <tbody>\n",
       "    <tr>\n",
       "      <th>0</th>\n",
       "      <td>0</td>\n",
       "      <td>Go until jurong point, crazy.. Available only ...</td>\n",
       "      <td>111</td>\n",
       "      <td>[Go, until, jurong, point, ,, crazy.., Availab...</td>\n",
       "      <td>23</td>\n",
       "    </tr>\n",
       "    <tr>\n",
       "      <th>1</th>\n",
       "      <td>0</td>\n",
       "      <td>Ok lar... Joking wif u oni...</td>\n",
       "      <td>29</td>\n",
       "      <td>[Ok, lar, ..., Joking, wif, u, oni, ...]</td>\n",
       "      <td>8</td>\n",
       "    </tr>\n",
       "    <tr>\n",
       "      <th>2</th>\n",
       "      <td>1</td>\n",
       "      <td>Free entry in 2 a wkly comp to win FA Cup fina...</td>\n",
       "      <td>155</td>\n",
       "      <td>[Free, entry, in, 2, a, wkly, comp, to, win, F...</td>\n",
       "      <td>37</td>\n",
       "    </tr>\n",
       "    <tr>\n",
       "      <th>3</th>\n",
       "      <td>0</td>\n",
       "      <td>U dun say so early hor... U c already then say...</td>\n",
       "      <td>49</td>\n",
       "      <td>[U, dun, say, so, early, hor, ..., U, c, alrea...</td>\n",
       "      <td>13</td>\n",
       "    </tr>\n",
       "    <tr>\n",
       "      <th>4</th>\n",
       "      <td>0</td>\n",
       "      <td>Nah I don't think he goes to usf, he lives aro...</td>\n",
       "      <td>61</td>\n",
       "      <td>[Nah, I, do, n't, think, he, goes, to, usf, ,,...</td>\n",
       "      <td>15</td>\n",
       "    </tr>\n",
       "  </tbody>\n",
       "</table>\n",
       "</div>"
      ],
      "text/plain": [
       "   output                                          sms/email  num_of_chars  \\\n",
       "0       0  Go until jurong point, crazy.. Available only ...           111   \n",
       "1       0                      Ok lar... Joking wif u oni...            29   \n",
       "2       1  Free entry in 2 a wkly comp to win FA Cup fina...           155   \n",
       "3       0  U dun say so early hor... U c already then say...            49   \n",
       "4       0  Nah I don't think he goes to usf, he lives aro...            61   \n",
       "\n",
       "                                       tokenized_sms  num_of_words  \n",
       "0  [Go, until, jurong, point, ,, crazy.., Availab...            23  \n",
       "1           [Ok, lar, ..., Joking, wif, u, oni, ...]             8  \n",
       "2  [Free, entry, in, 2, a, wkly, comp, to, win, F...            37  \n",
       "3  [U, dun, say, so, early, hor, ..., U, c, alrea...            13  \n",
       "4  [Nah, I, do, n't, think, he, goes, to, usf, ,,...            15  "
      ]
     },
     "execution_count": 15,
     "metadata": {},
     "output_type": "execute_result"
    }
   ],
   "source": [
    "# Tokenize the 'sms' (get each word individually ),count these words\n",
    "tokenized_sms = []\n",
    "length_of_sms = []\n",
    "\n",
    "for sms in df['sms/email']:\n",
    "    tokens = nltk.word_tokenize(sms)\n",
    "    tokenized_sms.append(tokens)\n",
    "    length_of_sms.append(len(tokens))\n",
    "\n",
    "\n",
    "df['tokenized_sms'] = tokenized_sms\n",
    "df['num_of_words'] = length_of_sms\n",
    "\n",
    "df.head()\n"
   ]
  },
  {
   "cell_type": "markdown",
   "id": "394c8c35",
   "metadata": {
    "papermill": {
     "duration": 0.016919,
     "end_time": "2024-07-13T10:21:45.974259",
     "exception": false,
     "start_time": "2024-07-13T10:21:45.957340",
     "status": "completed"
    },
    "tags": []
   },
   "source": [
    "* **Sent Tokenizing** is the process of dividing a text into individual sentences"
   ]
  },
  {
   "cell_type": "code",
   "execution_count": 16,
   "id": "1faf5597",
   "metadata": {
    "execution": {
     "iopub.execute_input": "2024-07-13T10:21:46.010411Z",
     "iopub.status.busy": "2024-07-13T10:21:46.009278Z",
     "iopub.status.idle": "2024-07-13T10:21:46.421202Z",
     "shell.execute_reply": "2024-07-13T10:21:46.419923Z"
    },
    "papermill": {
     "duration": 0.432314,
     "end_time": "2024-07-13T10:21:46.423698",
     "exception": false,
     "start_time": "2024-07-13T10:21:45.991384",
     "status": "completed"
    },
    "tags": []
   },
   "outputs": [
    {
     "name": "stderr",
     "output_type": "stream",
     "text": [
      "/tmp/ipykernel_24/3680462880.py:12: SettingWithCopyWarning: \n",
      "A value is trying to be set on a copy of a slice from a DataFrame.\n",
      "Try using .loc[row_indexer,col_indexer] = value instead\n",
      "\n",
      "See the caveats in the documentation: https://pandas.pydata.org/pandas-docs/stable/user_guide/indexing.html#returning-a-view-versus-a-copy\n",
      "  df['num_of_sent'] = num_sentences\n"
     ]
    },
    {
     "data": {
      "text/html": [
       "<div>\n",
       "<style scoped>\n",
       "    .dataframe tbody tr th:only-of-type {\n",
       "        vertical-align: middle;\n",
       "    }\n",
       "\n",
       "    .dataframe tbody tr th {\n",
       "        vertical-align: top;\n",
       "    }\n",
       "\n",
       "    .dataframe thead th {\n",
       "        text-align: right;\n",
       "    }\n",
       "</style>\n",
       "<table border=\"1\" class=\"dataframe\">\n",
       "  <thead>\n",
       "    <tr style=\"text-align: right;\">\n",
       "      <th></th>\n",
       "      <th>output</th>\n",
       "      <th>sms/email</th>\n",
       "      <th>num_of_chars</th>\n",
       "      <th>tokenized_sms</th>\n",
       "      <th>num_of_words</th>\n",
       "      <th>num_of_sent</th>\n",
       "    </tr>\n",
       "  </thead>\n",
       "  <tbody>\n",
       "    <tr>\n",
       "      <th>0</th>\n",
       "      <td>0</td>\n",
       "      <td>Go until jurong point, crazy.. Available only ...</td>\n",
       "      <td>111</td>\n",
       "      <td>[Go, until, jurong, point, ,, crazy.., Availab...</td>\n",
       "      <td>23</td>\n",
       "      <td>2</td>\n",
       "    </tr>\n",
       "    <tr>\n",
       "      <th>1</th>\n",
       "      <td>0</td>\n",
       "      <td>Ok lar... Joking wif u oni...</td>\n",
       "      <td>29</td>\n",
       "      <td>[Ok, lar, ..., Joking, wif, u, oni, ...]</td>\n",
       "      <td>8</td>\n",
       "      <td>2</td>\n",
       "    </tr>\n",
       "    <tr>\n",
       "      <th>2</th>\n",
       "      <td>1</td>\n",
       "      <td>Free entry in 2 a wkly comp to win FA Cup fina...</td>\n",
       "      <td>155</td>\n",
       "      <td>[Free, entry, in, 2, a, wkly, comp, to, win, F...</td>\n",
       "      <td>37</td>\n",
       "      <td>2</td>\n",
       "    </tr>\n",
       "    <tr>\n",
       "      <th>3</th>\n",
       "      <td>0</td>\n",
       "      <td>U dun say so early hor... U c already then say...</td>\n",
       "      <td>49</td>\n",
       "      <td>[U, dun, say, so, early, hor, ..., U, c, alrea...</td>\n",
       "      <td>13</td>\n",
       "      <td>1</td>\n",
       "    </tr>\n",
       "    <tr>\n",
       "      <th>4</th>\n",
       "      <td>0</td>\n",
       "      <td>Nah I don't think he goes to usf, he lives aro...</td>\n",
       "      <td>61</td>\n",
       "      <td>[Nah, I, do, n't, think, he, goes, to, usf, ,,...</td>\n",
       "      <td>15</td>\n",
       "      <td>1</td>\n",
       "    </tr>\n",
       "  </tbody>\n",
       "</table>\n",
       "</div>"
      ],
      "text/plain": [
       "   output                                          sms/email  num_of_chars  \\\n",
       "0       0  Go until jurong point, crazy.. Available only ...           111   \n",
       "1       0                      Ok lar... Joking wif u oni...            29   \n",
       "2       1  Free entry in 2 a wkly comp to win FA Cup fina...           155   \n",
       "3       0  U dun say so early hor... U c already then say...            49   \n",
       "4       0  Nah I don't think he goes to usf, he lives aro...            61   \n",
       "\n",
       "                                       tokenized_sms  num_of_words  \\\n",
       "0  [Go, until, jurong, point, ,, crazy.., Availab...            23   \n",
       "1           [Ok, lar, ..., Joking, wif, u, oni, ...]             8   \n",
       "2  [Free, entry, in, 2, a, wkly, comp, to, win, F...            37   \n",
       "3  [U, dun, say, so, early, hor, ..., U, c, alrea...            13   \n",
       "4  [Nah, I, do, n't, think, he, goes, to, usf, ,,...            15   \n",
       "\n",
       "   num_of_sent  \n",
       "0            2  \n",
       "1            2  \n",
       "2            2  \n",
       "3            1  \n",
       "4            1  "
      ]
     },
     "execution_count": 16,
     "metadata": {},
     "output_type": "execute_result"
    }
   ],
   "source": [
    "from nltk.tokenize import sent_tokenize\n",
    "\n",
    "#get num of sentence in each sms\n",
    "\n",
    "num_sentences = []\n",
    "\n",
    "for sms in df['sms/email']:\n",
    "    sentences = sent_tokenize(sms)\n",
    "    num_sentences.append(len(sentences))\n",
    "\n",
    "\n",
    "df['num_of_sent'] = num_sentences\n",
    "\n",
    "df.head()"
   ]
  },
  {
   "cell_type": "code",
   "execution_count": 17,
   "id": "48310a35",
   "metadata": {
    "execution": {
     "iopub.execute_input": "2024-07-13T10:21:46.470494Z",
     "iopub.status.busy": "2024-07-13T10:21:46.469848Z",
     "iopub.status.idle": "2024-07-13T10:21:46.489897Z",
     "shell.execute_reply": "2024-07-13T10:21:46.489041Z"
    },
    "papermill": {
     "duration": 0.04395,
     "end_time": "2024-07-13T10:21:46.491807",
     "exception": false,
     "start_time": "2024-07-13T10:21:46.447857",
     "status": "completed"
    },
    "tags": []
   },
   "outputs": [
    {
     "data": {
      "text/html": [
       "<div>\n",
       "<style scoped>\n",
       "    .dataframe tbody tr th:only-of-type {\n",
       "        vertical-align: middle;\n",
       "    }\n",
       "\n",
       "    .dataframe tbody tr th {\n",
       "        vertical-align: top;\n",
       "    }\n",
       "\n",
       "    .dataframe thead th {\n",
       "        text-align: right;\n",
       "    }\n",
       "</style>\n",
       "<table border=\"1\" class=\"dataframe\">\n",
       "  <thead>\n",
       "    <tr style=\"text-align: right;\">\n",
       "      <th></th>\n",
       "      <th>num_of_chars</th>\n",
       "      <th>num_of_words</th>\n",
       "      <th>num_of_sent</th>\n",
       "    </tr>\n",
       "  </thead>\n",
       "  <tbody>\n",
       "    <tr>\n",
       "      <th>count</th>\n",
       "      <td>5169.000000</td>\n",
       "      <td>5169.000000</td>\n",
       "      <td>5169.000000</td>\n",
       "    </tr>\n",
       "    <tr>\n",
       "      <th>mean</th>\n",
       "      <td>78.977945</td>\n",
       "      <td>18.286129</td>\n",
       "      <td>1.961308</td>\n",
       "    </tr>\n",
       "    <tr>\n",
       "      <th>std</th>\n",
       "      <td>58.236293</td>\n",
       "      <td>13.226400</td>\n",
       "      <td>1.432583</td>\n",
       "    </tr>\n",
       "    <tr>\n",
       "      <th>min</th>\n",
       "      <td>2.000000</td>\n",
       "      <td>1.000000</td>\n",
       "      <td>1.000000</td>\n",
       "    </tr>\n",
       "    <tr>\n",
       "      <th>25%</th>\n",
       "      <td>36.000000</td>\n",
       "      <td>9.000000</td>\n",
       "      <td>1.000000</td>\n",
       "    </tr>\n",
       "    <tr>\n",
       "      <th>50%</th>\n",
       "      <td>60.000000</td>\n",
       "      <td>15.000000</td>\n",
       "      <td>1.000000</td>\n",
       "    </tr>\n",
       "    <tr>\n",
       "      <th>75%</th>\n",
       "      <td>117.000000</td>\n",
       "      <td>26.000000</td>\n",
       "      <td>2.000000</td>\n",
       "    </tr>\n",
       "    <tr>\n",
       "      <th>max</th>\n",
       "      <td>910.000000</td>\n",
       "      <td>219.000000</td>\n",
       "      <td>38.000000</td>\n",
       "    </tr>\n",
       "  </tbody>\n",
       "</table>\n",
       "</div>"
      ],
      "text/plain": [
       "       num_of_chars  num_of_words  num_of_sent\n",
       "count   5169.000000   5169.000000  5169.000000\n",
       "mean      78.977945     18.286129     1.961308\n",
       "std       58.236293     13.226400     1.432583\n",
       "min        2.000000      1.000000     1.000000\n",
       "25%       36.000000      9.000000     1.000000\n",
       "50%       60.000000     15.000000     1.000000\n",
       "75%      117.000000     26.000000     2.000000\n",
       "max      910.000000    219.000000    38.000000"
      ]
     },
     "execution_count": 17,
     "metadata": {},
     "output_type": "execute_result"
    }
   ],
   "source": [
    "#describe these 3 cols to get more info \n",
    "\n",
    "df[['num_of_chars','num_of_words','num_of_sent']].describe()"
   ]
  },
  {
   "cell_type": "code",
   "execution_count": 18,
   "id": "0cec9f05",
   "metadata": {
    "execution": {
     "iopub.execute_input": "2024-07-13T10:21:46.528006Z",
     "iopub.status.busy": "2024-07-13T10:21:46.527765Z",
     "iopub.status.idle": "2024-07-13T10:21:46.545164Z",
     "shell.execute_reply": "2024-07-13T10:21:46.544317Z"
    },
    "papermill": {
     "duration": 0.037711,
     "end_time": "2024-07-13T10:21:46.547245",
     "exception": false,
     "start_time": "2024-07-13T10:21:46.509534",
     "status": "completed"
    },
    "tags": []
   },
   "outputs": [
    {
     "data": {
      "text/html": [
       "<div>\n",
       "<style scoped>\n",
       "    .dataframe tbody tr th:only-of-type {\n",
       "        vertical-align: middle;\n",
       "    }\n",
       "\n",
       "    .dataframe tbody tr th {\n",
       "        vertical-align: top;\n",
       "    }\n",
       "\n",
       "    .dataframe thead th {\n",
       "        text-align: right;\n",
       "    }\n",
       "</style>\n",
       "<table border=\"1\" class=\"dataframe\">\n",
       "  <thead>\n",
       "    <tr style=\"text-align: right;\">\n",
       "      <th></th>\n",
       "      <th>num_of_chars</th>\n",
       "      <th>num_of_words</th>\n",
       "      <th>num_of_sent</th>\n",
       "    </tr>\n",
       "  </thead>\n",
       "  <tbody>\n",
       "    <tr>\n",
       "      <th>count</th>\n",
       "      <td>4516.000000</td>\n",
       "      <td>4516.000000</td>\n",
       "      <td>4516.000000</td>\n",
       "    </tr>\n",
       "    <tr>\n",
       "      <th>mean</th>\n",
       "      <td>70.459256</td>\n",
       "      <td>16.957484</td>\n",
       "      <td>1.815545</td>\n",
       "    </tr>\n",
       "    <tr>\n",
       "      <th>std</th>\n",
       "      <td>56.358207</td>\n",
       "      <td>13.394052</td>\n",
       "      <td>1.364098</td>\n",
       "    </tr>\n",
       "    <tr>\n",
       "      <th>min</th>\n",
       "      <td>2.000000</td>\n",
       "      <td>1.000000</td>\n",
       "      <td>1.000000</td>\n",
       "    </tr>\n",
       "    <tr>\n",
       "      <th>25%</th>\n",
       "      <td>34.000000</td>\n",
       "      <td>8.000000</td>\n",
       "      <td>1.000000</td>\n",
       "    </tr>\n",
       "    <tr>\n",
       "      <th>50%</th>\n",
       "      <td>52.000000</td>\n",
       "      <td>13.000000</td>\n",
       "      <td>1.000000</td>\n",
       "    </tr>\n",
       "    <tr>\n",
       "      <th>75%</th>\n",
       "      <td>90.000000</td>\n",
       "      <td>22.000000</td>\n",
       "      <td>2.000000</td>\n",
       "    </tr>\n",
       "    <tr>\n",
       "      <th>max</th>\n",
       "      <td>910.000000</td>\n",
       "      <td>219.000000</td>\n",
       "      <td>38.000000</td>\n",
       "    </tr>\n",
       "  </tbody>\n",
       "</table>\n",
       "</div>"
      ],
      "text/plain": [
       "       num_of_chars  num_of_words  num_of_sent\n",
       "count   4516.000000   4516.000000  4516.000000\n",
       "mean      70.459256     16.957484     1.815545\n",
       "std       56.358207     13.394052     1.364098\n",
       "min        2.000000      1.000000     1.000000\n",
       "25%       34.000000      8.000000     1.000000\n",
       "50%       52.000000     13.000000     1.000000\n",
       "75%       90.000000     22.000000     2.000000\n",
       "max      910.000000    219.000000    38.000000"
      ]
     },
     "execution_count": 18,
     "metadata": {},
     "output_type": "execute_result"
    }
   ],
   "source": [
    "# describe these cols for ham sms/email\n",
    "df[df['output']==0][['num_of_chars','num_of_words','num_of_sent']].describe()"
   ]
  },
  {
   "cell_type": "code",
   "execution_count": 19,
   "id": "76427c04",
   "metadata": {
    "execution": {
     "iopub.execute_input": "2024-07-13T10:21:46.583569Z",
     "iopub.status.busy": "2024-07-13T10:21:46.583326Z",
     "iopub.status.idle": "2024-07-13T10:21:46.599278Z",
     "shell.execute_reply": "2024-07-13T10:21:46.598512Z"
    },
    "papermill": {
     "duration": 0.036402,
     "end_time": "2024-07-13T10:21:46.601251",
     "exception": false,
     "start_time": "2024-07-13T10:21:46.564849",
     "status": "completed"
    },
    "tags": []
   },
   "outputs": [
    {
     "data": {
      "text/html": [
       "<div>\n",
       "<style scoped>\n",
       "    .dataframe tbody tr th:only-of-type {\n",
       "        vertical-align: middle;\n",
       "    }\n",
       "\n",
       "    .dataframe tbody tr th {\n",
       "        vertical-align: top;\n",
       "    }\n",
       "\n",
       "    .dataframe thead th {\n",
       "        text-align: right;\n",
       "    }\n",
       "</style>\n",
       "<table border=\"1\" class=\"dataframe\">\n",
       "  <thead>\n",
       "    <tr style=\"text-align: right;\">\n",
       "      <th></th>\n",
       "      <th>num_of_chars</th>\n",
       "      <th>num_of_words</th>\n",
       "      <th>num_of_sent</th>\n",
       "    </tr>\n",
       "  </thead>\n",
       "  <tbody>\n",
       "    <tr>\n",
       "      <th>count</th>\n",
       "      <td>653.000000</td>\n",
       "      <td>653.000000</td>\n",
       "      <td>653.000000</td>\n",
       "    </tr>\n",
       "    <tr>\n",
       "      <th>mean</th>\n",
       "      <td>137.891271</td>\n",
       "      <td>27.474732</td>\n",
       "      <td>2.969372</td>\n",
       "    </tr>\n",
       "    <tr>\n",
       "      <th>std</th>\n",
       "      <td>30.137753</td>\n",
       "      <td>6.893007</td>\n",
       "      <td>1.488910</td>\n",
       "    </tr>\n",
       "    <tr>\n",
       "      <th>min</th>\n",
       "      <td>13.000000</td>\n",
       "      <td>2.000000</td>\n",
       "      <td>1.000000</td>\n",
       "    </tr>\n",
       "    <tr>\n",
       "      <th>25%</th>\n",
       "      <td>132.000000</td>\n",
       "      <td>25.000000</td>\n",
       "      <td>2.000000</td>\n",
       "    </tr>\n",
       "    <tr>\n",
       "      <th>50%</th>\n",
       "      <td>149.000000</td>\n",
       "      <td>29.000000</td>\n",
       "      <td>3.000000</td>\n",
       "    </tr>\n",
       "    <tr>\n",
       "      <th>75%</th>\n",
       "      <td>157.000000</td>\n",
       "      <td>32.000000</td>\n",
       "      <td>4.000000</td>\n",
       "    </tr>\n",
       "    <tr>\n",
       "      <th>max</th>\n",
       "      <td>224.000000</td>\n",
       "      <td>44.000000</td>\n",
       "      <td>9.000000</td>\n",
       "    </tr>\n",
       "  </tbody>\n",
       "</table>\n",
       "</div>"
      ],
      "text/plain": [
       "       num_of_chars  num_of_words  num_of_sent\n",
       "count    653.000000    653.000000   653.000000\n",
       "mean     137.891271     27.474732     2.969372\n",
       "std       30.137753      6.893007     1.488910\n",
       "min       13.000000      2.000000     1.000000\n",
       "25%      132.000000     25.000000     2.000000\n",
       "50%      149.000000     29.000000     3.000000\n",
       "75%      157.000000     32.000000     4.000000\n",
       "max      224.000000     44.000000     9.000000"
      ]
     },
     "execution_count": 19,
     "metadata": {},
     "output_type": "execute_result"
    }
   ],
   "source": [
    "# describe these cols for spam sms/email\n",
    "df[df['output']==1][['num_of_chars','num_of_words','num_of_sent']].describe()"
   ]
  },
  {
   "cell_type": "code",
   "execution_count": 20,
   "id": "fe710022",
   "metadata": {
    "execution": {
     "iopub.execute_input": "2024-07-13T10:21:46.638527Z",
     "iopub.status.busy": "2024-07-13T10:21:46.638286Z",
     "iopub.status.idle": "2024-07-13T10:21:47.336694Z",
     "shell.execute_reply": "2024-07-13T10:21:47.335808Z"
    },
    "papermill": {
     "duration": 0.719105,
     "end_time": "2024-07-13T10:21:47.338664",
     "exception": false,
     "start_time": "2024-07-13T10:21:46.619559",
     "status": "completed"
    },
    "tags": []
   },
   "outputs": [
    {
     "name": "stderr",
     "output_type": "stream",
     "text": [
      "/opt/conda/lib/python3.10/site-packages/seaborn/_oldcore.py:1119: FutureWarning: use_inf_as_na option is deprecated and will be removed in a future version. Convert inf values to NaN before operating instead.\n",
      "  with pd.option_context('mode.use_inf_as_na', True):\n",
      "/opt/conda/lib/python3.10/site-packages/seaborn/_oldcore.py:1119: FutureWarning: use_inf_as_na option is deprecated and will be removed in a future version. Convert inf values to NaN before operating instead.\n",
      "  with pd.option_context('mode.use_inf_as_na', True):\n"
     ]
    },
    {
     "data": {
      "image/png": "[encoded data removed]",
      "text/plain": [
       "<Figure size 640x480 with 1 Axes>"
      ]
     },
     "metadata": {},
     "output_type": "display_data"
    }
   ],
   "source": [
    "import seaborn as sns\n",
    "sns.histplot(df[df['output']==0]['num_of_chars'],color='blue')\n",
    "sns.histplot(df[df['output']==1]['num_of_chars'],color='red')\n",
    "plt.title('Distrubtion of num of chars ')\n",
    "plt.show()"
   ]
  },
  {
   "cell_type": "code",
   "execution_count": 21,
   "id": "3995bd4e",
   "metadata": {
    "execution": {
     "iopub.execute_input": "2024-07-13T10:21:47.376796Z",
     "iopub.status.busy": "2024-07-13T10:21:47.376516Z",
     "iopub.status.idle": "2024-07-13T10:21:47.887613Z",
     "shell.execute_reply": "2024-07-13T10:21:47.886756Z"
    },
    "papermill": {
     "duration": 0.532396,
     "end_time": "2024-07-13T10:21:47.889672",
     "exception": false,
     "start_time": "2024-07-13T10:21:47.357276",
     "status": "completed"
    },
    "tags": []
   },
   "outputs": [
    {
     "name": "stderr",
     "output_type": "stream",
     "text": [
      "/opt/conda/lib/python3.10/site-packages/seaborn/_oldcore.py:1119: FutureWarning: use_inf_as_na option is deprecated and will be removed in a future version. Convert inf values to NaN before operating instead.\n",
      "  with pd.option_context('mode.use_inf_as_na', True):\n",
      "/opt/conda/lib/python3.10/site-packages/seaborn/_oldcore.py:1119: FutureWarning: use_inf_as_na option is deprecated and will be removed in a future version. Convert inf values to NaN before operating instead.\n",
      "  with pd.option_context('mode.use_inf_as_na', True):\n"
     ]
    },
    {
     "data": {
      "image/png": "[encoded data removed]",
      "text/plain": [
       "<Figure size 640x480 with 1 Axes>"
      ]
     },
     "metadata": {},
     "output_type": "display_data"
    }
   ],
   "source": [
    "import seaborn as sns\n",
    "sns.histplot(df[df['output']==0]['num_of_words'],color='blue')\n",
    "sns.histplot(df[df['output']==1]['num_of_words'],color='red')\n",
    "plt.title('Distrubtion of num of words ')\n",
    "plt.show()"
   ]
  },
  {
   "cell_type": "code",
   "execution_count": 22,
   "id": "b3906448",
   "metadata": {
    "execution": {
     "iopub.execute_input": "2024-07-13T10:21:47.929246Z",
     "iopub.status.busy": "2024-07-13T10:21:47.928953Z",
     "iopub.status.idle": "2024-07-13T10:21:48.645398Z",
     "shell.execute_reply": "2024-07-13T10:21:48.644499Z"
    },
    "papermill": {
     "duration": 0.73863,
     "end_time": "2024-07-13T10:21:48.647588",
     "exception": false,
     "start_time": "2024-07-13T10:21:47.908958",
     "status": "completed"
    },
    "tags": []
   },
   "outputs": [
    {
     "name": "stderr",
     "output_type": "stream",
     "text": [
      "/opt/conda/lib/python3.10/site-packages/seaborn/_oldcore.py:1119: FutureWarning: use_inf_as_na option is deprecated and will be removed in a future version. Convert inf values to NaN before operating instead.\n",
      "  with pd.option_context('mode.use_inf_as_na', True):\n",
      "/opt/conda/lib/python3.10/site-packages/seaborn/_oldcore.py:1119: FutureWarning: use_inf_as_na option is deprecated and will be removed in a future version. Convert inf values to NaN before operating instead.\n",
      "  with pd.option_context('mode.use_inf_as_na', True):\n"
     ]
    },
    {
     "data": {
      "image/png": "[encoded data removed]",
      "text/plain": [
       "<Figure size 640x480 with 1 Axes>"
      ]
     },
     "metadata": {},
     "output_type": "display_data"
    }
   ],
   "source": [
    "import seaborn as sns\n",
    "sns.histplot(df[df['output']==0]['num_of_sent'],color='blue')\n",
    "sns.histplot(df[df['output']==1]['num_of_sent'],color='red')\n",
    "plt.title('Distrubtion of num of sents ')\n",
    "plt.show()"
   ]
  },
  {
   "cell_type": "code",
   "execution_count": 23,
   "id": "82c86fba",
   "metadata": {
    "execution": {
     "iopub.execute_input": "2024-07-13T10:21:48.688962Z",
     "iopub.status.busy": "2024-07-13T10:21:48.688347Z",
     "iopub.status.idle": "2024-07-13T10:21:48.699538Z",
     "shell.execute_reply": "2024-07-13T10:21:48.698646Z"
    },
    "papermill": {
     "duration": 0.033841,
     "end_time": "2024-07-13T10:21:48.701368",
     "exception": false,
     "start_time": "2024-07-13T10:21:48.667527",
     "status": "completed"
    },
    "tags": []
   },
   "outputs": [
    {
     "data": {
      "text/html": [
       "<div>\n",
       "<style scoped>\n",
       "    .dataframe tbody tr th:only-of-type {\n",
       "        vertical-align: middle;\n",
       "    }\n",
       "\n",
       "    .dataframe tbody tr th {\n",
       "        vertical-align: top;\n",
       "    }\n",
       "\n",
       "    .dataframe thead th {\n",
       "        text-align: right;\n",
       "    }\n",
       "</style>\n",
       "<table border=\"1\" class=\"dataframe\">\n",
       "  <thead>\n",
       "    <tr style=\"text-align: right;\">\n",
       "      <th></th>\n",
       "      <th>output</th>\n",
       "      <th>num_of_chars</th>\n",
       "      <th>num_of_words</th>\n",
       "      <th>num_of_sent</th>\n",
       "    </tr>\n",
       "  </thead>\n",
       "  <tbody>\n",
       "    <tr>\n",
       "      <th>0</th>\n",
       "      <td>0</td>\n",
       "      <td>111</td>\n",
       "      <td>23</td>\n",
       "      <td>2</td>\n",
       "    </tr>\n",
       "    <tr>\n",
       "      <th>1</th>\n",
       "      <td>0</td>\n",
       "      <td>29</td>\n",
       "      <td>8</td>\n",
       "      <td>2</td>\n",
       "    </tr>\n",
       "    <tr>\n",
       "      <th>2</th>\n",
       "      <td>1</td>\n",
       "      <td>155</td>\n",
       "      <td>37</td>\n",
       "      <td>2</td>\n",
       "    </tr>\n",
       "    <tr>\n",
       "      <th>3</th>\n",
       "      <td>0</td>\n",
       "      <td>49</td>\n",
       "      <td>13</td>\n",
       "      <td>1</td>\n",
       "    </tr>\n",
       "    <tr>\n",
       "      <th>4</th>\n",
       "      <td>0</td>\n",
       "      <td>61</td>\n",
       "      <td>15</td>\n",
       "      <td>1</td>\n",
       "    </tr>\n",
       "    <tr>\n",
       "      <th>...</th>\n",
       "      <td>...</td>\n",
       "      <td>...</td>\n",
       "      <td>...</td>\n",
       "      <td>...</td>\n",
       "    </tr>\n",
       "    <tr>\n",
       "      <th>5567</th>\n",
       "      <td>1</td>\n",
       "      <td>161</td>\n",
       "      <td>35</td>\n",
       "      <td>4</td>\n",
       "    </tr>\n",
       "    <tr>\n",
       "      <th>5568</th>\n",
       "      <td>0</td>\n",
       "      <td>37</td>\n",
       "      <td>9</td>\n",
       "      <td>1</td>\n",
       "    </tr>\n",
       "    <tr>\n",
       "      <th>5569</th>\n",
       "      <td>0</td>\n",
       "      <td>57</td>\n",
       "      <td>15</td>\n",
       "      <td>2</td>\n",
       "    </tr>\n",
       "    <tr>\n",
       "      <th>5570</th>\n",
       "      <td>0</td>\n",
       "      <td>125</td>\n",
       "      <td>27</td>\n",
       "      <td>1</td>\n",
       "    </tr>\n",
       "    <tr>\n",
       "      <th>5571</th>\n",
       "      <td>0</td>\n",
       "      <td>26</td>\n",
       "      <td>7</td>\n",
       "      <td>2</td>\n",
       "    </tr>\n",
       "  </tbody>\n",
       "</table>\n",
       "<p>5169 rows × 4 columns</p>\n",
       "</div>"
      ],
      "text/plain": [
       "      output  num_of_chars  num_of_words  num_of_sent\n",
       "0          0           111            23            2\n",
       "1          0            29             8            2\n",
       "2          1           155            37            2\n",
       "3          0            49            13            1\n",
       "4          0            61            15            1\n",
       "...      ...           ...           ...          ...\n",
       "5567       1           161            35            4\n",
       "5568       0            37             9            1\n",
       "5569       0            57            15            2\n",
       "5570       0           125            27            1\n",
       "5571       0            26             7            2\n",
       "\n",
       "[5169 rows x 4 columns]"
      ]
     },
     "execution_count": 23,
     "metadata": {},
     "output_type": "execute_result"
    }
   ],
   "source": [
    "df2=df[['output','num_of_chars','num_of_words','num_of_sent']]\n",
    "df2"
   ]
  },
  {
   "cell_type": "code",
   "execution_count": 24,
   "id": "920e4247",
   "metadata": {
    "execution": {
     "iopub.execute_input": "2024-07-13T10:21:48.741800Z",
     "iopub.status.busy": "2024-07-13T10:21:48.741554Z",
     "iopub.status.idle": "2024-07-13T10:21:49.049716Z",
     "shell.execute_reply": "2024-07-13T10:21:49.048798Z"
    },
    "papermill": {
     "duration": 0.330788,
     "end_time": "2024-07-13T10:21:49.051789",
     "exception": false,
     "start_time": "2024-07-13T10:21:48.721001",
     "status": "completed"
    },
    "tags": []
   },
   "outputs": [
    {
     "data": {
      "image/png": "[encoded data removed]",
      "text/plain": [
       "<Figure size 640x480 with 2 Axes>"
      ]
     },
     "metadata": {},
     "output_type": "display_data"
    }
   ],
   "source": [
    "sns.heatmap(df2.corr(),annot=True)\n",
    "plt.show()"
   ]
  },
  {
   "cell_type": "markdown",
   "id": "a4f518f0",
   "metadata": {
    "papermill": {
     "duration": 0.020266,
     "end_time": "2024-07-13T10:21:49.092647",
     "exception": false,
     "start_time": "2024-07-13T10:21:49.072381",
     "status": "completed"
    },
    "tags": []
   },
   "source": [
    "*  **string.punctuation** constant contains a string of all punctuation characters"
   ]
  },
  {
   "cell_type": "code",
   "execution_count": 25,
   "id": "4bd28908",
   "metadata": {
    "execution": {
     "iopub.execute_input": "2024-07-13T10:21:49.135531Z",
     "iopub.status.busy": "2024-07-13T10:21:49.135222Z",
     "iopub.status.idle": "2024-07-13T10:21:49.140649Z",
     "shell.execute_reply": "2024-07-13T10:21:49.139802Z"
    },
    "papermill": {
     "duration": 0.029845,
     "end_time": "2024-07-13T10:21:49.142608",
     "exception": false,
     "start_time": "2024-07-13T10:21:49.112763",
     "status": "completed"
    },
    "tags": []
   },
   "outputs": [
    {
     "data": {
      "text/plain": [
       "'!\"#$%&\\'()*+,-./:;<=>?@[\\\\]^_`{|}~'"
      ]
     },
     "execution_count": 25,
     "metadata": {},
     "output_type": "execute_result"
    }
   ],
   "source": [
    "import string\n",
    "string.punctuation"
   ]
  },
  {
   "cell_type": "markdown",
   "id": "07c3cefd",
   "metadata": {
    "papermill": {
     "duration": 0.020289,
     "end_time": "2024-07-13T10:21:49.183286",
     "exception": false,
     "start_time": "2024-07-13T10:21:49.162997",
     "status": "completed"
    },
    "tags": []
   },
   "source": [
    "* **PorterStemmer** is an algorithm for stemming "
   ]
  },
  {
   "cell_type": "code",
   "execution_count": 26,
   "id": "265a65d0",
   "metadata": {
    "execution": {
     "iopub.execute_input": "2024-07-13T10:21:49.224946Z",
     "iopub.status.busy": "2024-07-13T10:21:49.224673Z",
     "iopub.status.idle": "2024-07-13T10:21:49.230201Z",
     "shell.execute_reply": "2024-07-13T10:21:49.229398Z"
    },
    "papermill": {
     "duration": 0.02863,
     "end_time": "2024-07-13T10:21:49.232184",
     "exception": false,
     "start_time": "2024-07-13T10:21:49.203554",
     "status": "completed"
    },
    "tags": []
   },
   "outputs": [
    {
     "data": {
      "text/plain": [
       "'danc'"
      ]
     },
     "execution_count": 26,
     "metadata": {},
     "output_type": "execute_result"
    }
   ],
   "source": [
    "from nltk.stem.porter import PorterStemmer\n",
    "ps=PorterStemmer()\n",
    "ps.stem('dancing')"
   ]
  },
  {
   "cell_type": "markdown",
   "id": "76fc3f2b",
   "metadata": {
    "papermill": {
     "duration": 0.020302,
     "end_time": "2024-07-13T10:21:49.272888",
     "exception": false,
     "start_time": "2024-07-13T10:21:49.252586",
     "status": "completed"
    },
    "tags": []
   },
   "source": [
    "* **stopwords** list of common stopwords that arry little meaningful content"
   ]
  },
  {
   "cell_type": "code",
   "execution_count": 27,
   "id": "55356bd6",
   "metadata": {
    "execution": {
     "iopub.execute_input": "2024-07-13T10:21:49.315197Z",
     "iopub.status.busy": "2024-07-13T10:21:49.314916Z",
     "iopub.status.idle": "2024-07-13T10:21:49.327490Z",
     "shell.execute_reply": "2024-07-13T10:21:49.326643Z"
    },
    "papermill": {
     "duration": 0.035854,
     "end_time": "2024-07-13T10:21:49.329370",
     "exception": false,
     "start_time": "2024-07-13T10:21:49.293516",
     "status": "completed"
    },
    "tags": []
   },
   "outputs": [
    {
     "data": {
      "text/plain": [
       "['i',\n",
       " 'me',\n",
       " 'my',\n",
       " 'myself',\n",
       " 'we',\n",
       " 'our',\n",
       " 'ours',\n",
       " 'ourselves',\n",
       " 'you',\n",
       " \"you're\",\n",
       " \"you've\",\n",
       " \"you'll\",\n",
       " \"you'd\",\n",
       " 'your',\n",
       " 'yours',\n",
       " 'yourself',\n",
       " 'yourselves',\n",
       " 'he',\n",
       " 'him',\n",
       " 'his',\n",
       " 'himself',\n",
       " 'she',\n",
       " \"she's\",\n",
       " 'her',\n",
       " 'hers',\n",
       " 'herself',\n",
       " 'it',\n",
       " \"it's\",\n",
       " 'its',\n",
       " 'itself',\n",
       " 'they',\n",
       " 'them',\n",
       " 'their',\n",
       " 'theirs',\n",
       " 'themselves',\n",
       " 'what',\n",
       " 'which',\n",
       " 'who',\n",
       " 'whom',\n",
       " 'this',\n",
       " 'that',\n",
       " \"that'll\",\n",
       " 'these',\n",
       " 'those',\n",
       " 'am',\n",
       " 'is',\n",
       " 'are',\n",
       " 'was',\n",
       " 'were',\n",
       " 'be',\n",
       " 'been',\n",
       " 'being',\n",
       " 'have',\n",
       " 'has',\n",
       " 'had',\n",
       " 'having',\n",
       " 'do',\n",
       " 'does',\n",
       " 'did',\n",
       " 'doing',\n",
       " 'a',\n",
       " 'an',\n",
       " 'the',\n",
       " 'and',\n",
       " 'but',\n",
       " 'if',\n",
       " 'or',\n",
       " 'because',\n",
       " 'as',\n",
       " 'until',\n",
       " 'while',\n",
       " 'of',\n",
       " 'at',\n",
       " 'by',\n",
       " 'for',\n",
       " 'with',\n",
       " 'about',\n",
       " 'against',\n",
       " 'between',\n",
       " 'into',\n",
       " 'through',\n",
       " 'during',\n",
       " 'before',\n",
       " 'after',\n",
       " 'above',\n",
       " 'below',\n",
       " 'to',\n",
       " 'from',\n",
       " 'up',\n",
       " 'down',\n",
       " 'in',\n",
       " 'out',\n",
       " 'on',\n",
       " 'off',\n",
       " 'over',\n",
       " 'under',\n",
       " 'again',\n",
       " 'further',\n",
       " 'then',\n",
       " 'once',\n",
       " 'here',\n",
       " 'there',\n",
       " 'when',\n",
       " 'where',\n",
       " 'why',\n",
       " 'how',\n",
       " 'all',\n",
       " 'any',\n",
       " 'both',\n",
       " 'each',\n",
       " 'few',\n",
       " 'more',\n",
       " 'most',\n",
       " 'other',\n",
       " 'some',\n",
       " 'such',\n",
       " 'no',\n",
       " 'nor',\n",
       " 'not',\n",
       " 'only',\n",
       " 'own',\n",
       " 'same',\n",
       " 'so',\n",
       " 'than',\n",
       " 'too',\n",
       " 'very',\n",
       " 's',\n",
       " 't',\n",
       " 'can',\n",
       " 'will',\n",
       " 'just',\n",
       " 'don',\n",
       " \"don't\",\n",
       " 'should',\n",
       " \"should've\",\n",
       " 'now',\n",
       " 'd',\n",
       " 'll',\n",
       " 'm',\n",
       " 'o',\n",
       " 're',\n",
       " 've',\n",
       " 'y',\n",
       " 'ain',\n",
       " 'aren',\n",
       " \"aren't\",\n",
       " 'couldn',\n",
       " \"couldn't\",\n",
       " 'didn',\n",
       " \"didn't\",\n",
       " 'doesn',\n",
       " \"doesn't\",\n",
       " 'hadn',\n",
       " \"hadn't\",\n",
       " 'hasn',\n",
       " \"hasn't\",\n",
       " 'haven',\n",
       " \"haven't\",\n",
       " 'isn',\n",
       " \"isn't\",\n",
       " 'ma',\n",
       " 'mightn',\n",
       " \"mightn't\",\n",
       " 'mustn',\n",
       " \"mustn't\",\n",
       " 'needn',\n",
       " \"needn't\",\n",
       " 'shan',\n",
       " \"shan't\",\n",
       " 'shouldn',\n",
       " \"shouldn't\",\n",
       " 'wasn',\n",
       " \"wasn't\",\n",
       " 'weren',\n",
       " \"weren't\",\n",
       " 'won',\n",
       " \"won't\",\n",
       " 'wouldn',\n",
       " \"wouldn't\"]"
      ]
     },
     "execution_count": 27,
     "metadata": {},
     "output_type": "execute_result"
    }
   ],
   "source": [
    "from nltk.corpus import stopwords\n",
    "stopwords.words('english')"
   ]
  },
  {
   "cell_type": "code",
   "execution_count": 28,
   "id": "bc657fed",
   "metadata": {
    "execution": {
     "iopub.execute_input": "2024-07-13T10:21:49.371767Z",
     "iopub.status.busy": "2024-07-13T10:21:49.371533Z",
     "iopub.status.idle": "2024-07-13T10:21:49.377903Z",
     "shell.execute_reply": "2024-07-13T10:21:49.377069Z"
    },
    "papermill": {
     "duration": 0.029887,
     "end_time": "2024-07-13T10:21:49.379835",
     "exception": false,
     "start_time": "2024-07-13T10:21:49.349948",
     "status": "completed"
    },
    "tags": []
   },
   "outputs": [],
   "source": [
    "def process_txt(txt):\n",
    "    txt=txt.lower() # cvt all sms to lower casechase letters\n",
    "    txt=nltk.word_tokenize(txt)\n",
    "    \n",
    "    y=[]\n",
    "    for i in txt: #include nums\n",
    "        if i.isalnum()==True:\n",
    "            y.append(i)\n",
    "    txt=y[:]\n",
    "    y.clear()\n",
    "    \n",
    "    for i in txt:\n",
    "        if i not in stopwords.words('english')and i not in string.punctuation: # ignore stopwords & punctuation\n",
    "            y.append(i)\n",
    "    txt=y[:]\n",
    "    y.clear()\n",
    "    for i in txt:\n",
    "        y.append(ps.stem(i)) #get stemming\n",
    "    \n",
    "    \n",
    "    return \" \".join(y)"
   ]
  },
  {
   "cell_type": "code",
   "execution_count": 29,
   "id": "c52c3ba1",
   "metadata": {
    "execution": {
     "iopub.execute_input": "2024-07-13T10:21:49.422954Z",
     "iopub.status.busy": "2024-07-13T10:21:49.422722Z",
     "iopub.status.idle": "2024-07-13T10:21:49.428830Z",
     "shell.execute_reply": "2024-07-13T10:21:49.427983Z"
    },
    "papermill": {
     "duration": 0.029703,
     "end_time": "2024-07-13T10:21:49.430770",
     "exception": false,
     "start_time": "2024-07-13T10:21:49.401067",
     "status": "completed"
    },
    "tags": []
   },
   "outputs": [
    {
     "data": {
      "text/plain": [
       "'hello 20'"
      ]
     },
     "execution_count": 29,
     "metadata": {},
     "output_type": "execute_result"
    }
   ],
   "source": [
    "txt=\"hello 20 %\"\n",
    "process_txt(txt)"
   ]
  },
  {
   "cell_type": "code",
   "execution_count": 30,
   "id": "470847d3",
   "metadata": {
    "execution": {
     "iopub.execute_input": "2024-07-13T10:21:49.473714Z",
     "iopub.status.busy": "2024-07-13T10:21:49.473456Z",
     "iopub.status.idle": "2024-07-13T10:21:49.481489Z",
     "shell.execute_reply": "2024-07-13T10:21:49.480489Z"
    },
    "papermill": {
     "duration": 0.031833,
     "end_time": "2024-07-13T10:21:49.483340",
     "exception": false,
     "start_time": "2024-07-13T10:21:49.451507",
     "status": "completed"
    },
    "tags": []
   },
   "outputs": [
    {
     "name": "stdout",
     "output_type": "stream",
     "text": [
      "But i'll b going 2 sch on mon. My sis need 2 take smth.\n",
      "____________________________________________________________________________________________________\n",
      "b go 2 sch mon si need 2 take smth\n"
     ]
    }
   ],
   "source": [
    "print(df['sms/email'][2000])\n",
    "print('_'*100)\n",
    "print(process_txt(df['sms/email'][2000]))"
   ]
  },
  {
   "cell_type": "code",
   "execution_count": 31,
   "id": "591b2168",
   "metadata": {
    "execution": {
     "iopub.execute_input": "2024-07-13T10:21:49.526607Z",
     "iopub.status.busy": "2024-07-13T10:21:49.526348Z",
     "iopub.status.idle": "2024-07-13T10:22:01.820905Z",
     "shell.execute_reply": "2024-07-13T10:22:01.819846Z"
    },
    "papermill": {
     "duration": 12.319625,
     "end_time": "2024-07-13T10:22:01.823823",
     "exception": false,
     "start_time": "2024-07-13T10:21:49.504198",
     "status": "completed"
    },
    "tags": []
   },
   "outputs": [
    {
     "name": "stderr",
     "output_type": "stream",
     "text": [
      "/tmp/ipykernel_24/236613834.py:2: SettingWithCopyWarning: \n",
      "A value is trying to be set on a copy of a slice from a DataFrame.\n",
      "Try using .loc[row_indexer,col_indexer] = value instead\n",
      "\n",
      "See the caveats in the documentation: https://pandas.pydata.org/pandas-docs/stable/user_guide/indexing.html#returning-a-view-versus-a-copy\n",
      "  df['text_transform']=df['sms/email'].apply(process_txt)\n"
     ]
    },
    {
     "data": {
      "text/html": [
       "<div>\n",
       "<style scoped>\n",
       "    .dataframe tbody tr th:only-of-type {\n",
       "        vertical-align: middle;\n",
       "    }\n",
       "\n",
       "    .dataframe tbody tr th {\n",
       "        vertical-align: top;\n",
       "    }\n",
       "\n",
       "    .dataframe thead th {\n",
       "        text-align: right;\n",
       "    }\n",
       "</style>\n",
       "<table border=\"1\" class=\"dataframe\">\n",
       "  <thead>\n",
       "    <tr style=\"text-align: right;\">\n",
       "      <th></th>\n",
       "      <th>output</th>\n",
       "      <th>sms/email</th>\n",
       "      <th>num_of_chars</th>\n",
       "      <th>tokenized_sms</th>\n",
       "      <th>num_of_words</th>\n",
       "      <th>num_of_sent</th>\n",
       "      <th>text_transform</th>\n",
       "    </tr>\n",
       "  </thead>\n",
       "  <tbody>\n",
       "    <tr>\n",
       "      <th>0</th>\n",
       "      <td>0</td>\n",
       "      <td>Go until jurong point, crazy.. Available only ...</td>\n",
       "      <td>111</td>\n",
       "      <td>[Go, until, jurong, point, ,, crazy.., Availab...</td>\n",
       "      <td>23</td>\n",
       "      <td>2</td>\n",
       "      <td>go jurong point avail bugi n great world la e ...</td>\n",
       "    </tr>\n",
       "    <tr>\n",
       "      <th>1</th>\n",
       "      <td>0</td>\n",
       "      <td>Ok lar... Joking wif u oni...</td>\n",
       "      <td>29</td>\n",
       "      <td>[Ok, lar, ..., Joking, wif, u, oni, ...]</td>\n",
       "      <td>8</td>\n",
       "      <td>2</td>\n",
       "      <td>ok lar joke wif u oni</td>\n",
       "    </tr>\n",
       "    <tr>\n",
       "      <th>2</th>\n",
       "      <td>1</td>\n",
       "      <td>Free entry in 2 a wkly comp to win FA Cup fina...</td>\n",
       "      <td>155</td>\n",
       "      <td>[Free, entry, in, 2, a, wkly, comp, to, win, F...</td>\n",
       "      <td>37</td>\n",
       "      <td>2</td>\n",
       "      <td>free entri 2 wkli comp win fa cup final tkt 21...</td>\n",
       "    </tr>\n",
       "    <tr>\n",
       "      <th>3</th>\n",
       "      <td>0</td>\n",
       "      <td>U dun say so early hor... U c already then say...</td>\n",
       "      <td>49</td>\n",
       "      <td>[U, dun, say, so, early, hor, ..., U, c, alrea...</td>\n",
       "      <td>13</td>\n",
       "      <td>1</td>\n",
       "      <td>u dun say earli hor u c alreadi say</td>\n",
       "    </tr>\n",
       "    <tr>\n",
       "      <th>4</th>\n",
       "      <td>0</td>\n",
       "      <td>Nah I don't think he goes to usf, he lives aro...</td>\n",
       "      <td>61</td>\n",
       "      <td>[Nah, I, do, n't, think, he, goes, to, usf, ,,...</td>\n",
       "      <td>15</td>\n",
       "      <td>1</td>\n",
       "      <td>nah think goe usf live around though</td>\n",
       "    </tr>\n",
       "    <tr>\n",
       "      <th>...</th>\n",
       "      <td>...</td>\n",
       "      <td>...</td>\n",
       "      <td>...</td>\n",
       "      <td>...</td>\n",
       "      <td>...</td>\n",
       "      <td>...</td>\n",
       "      <td>...</td>\n",
       "    </tr>\n",
       "    <tr>\n",
       "      <th>5567</th>\n",
       "      <td>1</td>\n",
       "      <td>This is the 2nd time we have tried 2 contact u...</td>\n",
       "      <td>161</td>\n",
       "      <td>[This, is, the, 2nd, time, we, have, tried, 2,...</td>\n",
       "      <td>35</td>\n",
       "      <td>4</td>\n",
       "      <td>2nd time tri 2 contact u pound prize 2 claim e...</td>\n",
       "    </tr>\n",
       "    <tr>\n",
       "      <th>5568</th>\n",
       "      <td>0</td>\n",
       "      <td>Will Ì_ b going to esplanade fr home?</td>\n",
       "      <td>37</td>\n",
       "      <td>[Will, Ì_, b, going, to, esplanade, fr, home, ?]</td>\n",
       "      <td>9</td>\n",
       "      <td>1</td>\n",
       "      <td>b go esplanad fr home</td>\n",
       "    </tr>\n",
       "    <tr>\n",
       "      <th>5569</th>\n",
       "      <td>0</td>\n",
       "      <td>Pity, * was in mood for that. So...any other s...</td>\n",
       "      <td>57</td>\n",
       "      <td>[Pity, ,, *, was, in, mood, for, that, ., So, ...</td>\n",
       "      <td>15</td>\n",
       "      <td>2</td>\n",
       "      <td>piti mood suggest</td>\n",
       "    </tr>\n",
       "    <tr>\n",
       "      <th>5570</th>\n",
       "      <td>0</td>\n",
       "      <td>The guy did some bitching but I acted like i'd...</td>\n",
       "      <td>125</td>\n",
       "      <td>[The, guy, did, some, bitching, but, I, acted,...</td>\n",
       "      <td>27</td>\n",
       "      <td>1</td>\n",
       "      <td>guy bitch act like interest buy someth els nex...</td>\n",
       "    </tr>\n",
       "    <tr>\n",
       "      <th>5571</th>\n",
       "      <td>0</td>\n",
       "      <td>Rofl. Its true to its name</td>\n",
       "      <td>26</td>\n",
       "      <td>[Rofl, ., Its, true, to, its, name]</td>\n",
       "      <td>7</td>\n",
       "      <td>2</td>\n",
       "      <td>rofl true name</td>\n",
       "    </tr>\n",
       "  </tbody>\n",
       "</table>\n",
       "<p>5169 rows × 7 columns</p>\n",
       "</div>"
      ],
      "text/plain": [
       "      output                                          sms/email  num_of_chars  \\\n",
       "0          0  Go until jurong point, crazy.. Available only ...           111   \n",
       "1          0                      Ok lar... Joking wif u oni...            29   \n",
       "2          1  Free entry in 2 a wkly comp to win FA Cup fina...           155   \n",
       "3          0  U dun say so early hor... U c already then say...            49   \n",
       "4          0  Nah I don't think he goes to usf, he lives aro...            61   \n",
       "...      ...                                                ...           ...   \n",
       "5567       1  This is the 2nd time we have tried 2 contact u...           161   \n",
       "5568       0              Will Ì_ b going to esplanade fr home?            37   \n",
       "5569       0  Pity, * was in mood for that. So...any other s...            57   \n",
       "5570       0  The guy did some bitching but I acted like i'd...           125   \n",
       "5571       0                         Rofl. Its true to its name            26   \n",
       "\n",
       "                                          tokenized_sms  num_of_words  \\\n",
       "0     [Go, until, jurong, point, ,, crazy.., Availab...            23   \n",
       "1              [Ok, lar, ..., Joking, wif, u, oni, ...]             8   \n",
       "2     [Free, entry, in, 2, a, wkly, comp, to, win, F...            37   \n",
       "3     [U, dun, say, so, early, hor, ..., U, c, alrea...            13   \n",
       "4     [Nah, I, do, n't, think, he, goes, to, usf, ,,...            15   \n",
       "...                                                 ...           ...   \n",
       "5567  [This, is, the, 2nd, time, we, have, tried, 2,...            35   \n",
       "5568   [Will, Ì_, b, going, to, esplanade, fr, home, ?]             9   \n",
       "5569  [Pity, ,, *, was, in, mood, for, that, ., So, ...            15   \n",
       "5570  [The, guy, did, some, bitching, but, I, acted,...            27   \n",
       "5571                [Rofl, ., Its, true, to, its, name]             7   \n",
       "\n",
       "      num_of_sent                                     text_transform  \n",
       "0               2  go jurong point avail bugi n great world la e ...  \n",
       "1               2                              ok lar joke wif u oni  \n",
       "2               2  free entri 2 wkli comp win fa cup final tkt 21...  \n",
       "3               1                u dun say earli hor u c alreadi say  \n",
       "4               1               nah think goe usf live around though  \n",
       "...           ...                                                ...  \n",
       "5567            4  2nd time tri 2 contact u pound prize 2 claim e...  \n",
       "5568            1                              b go esplanad fr home  \n",
       "5569            2                                  piti mood suggest  \n",
       "5570            1  guy bitch act like interest buy someth els nex...  \n",
       "5571            2                                     rofl true name  \n",
       "\n",
       "[5169 rows x 7 columns]"
      ]
     },
     "execution_count": 31,
     "metadata": {},
     "output_type": "execute_result"
    }
   ],
   "source": [
    "#apply fun to all data \n",
    "df['text_transform']=df['sms/email'].apply(process_txt)\n",
    "df"
   ]
  },
  {
   "cell_type": "markdown",
   "id": "19e738d0",
   "metadata": {
    "papermill": {
     "duration": 0.02113,
     "end_time": "2024-07-13T10:22:01.867122",
     "exception": false,
     "start_time": "2024-07-13T10:22:01.845992",
     "status": "completed"
    },
    "tags": []
   },
   "source": [
    "* **WordCloud** is used for generating visual representations of word frequency in a text corpus"
   ]
  },
  {
   "cell_type": "code",
   "execution_count": 32,
   "id": "0489e7a1",
   "metadata": {
    "execution": {
     "iopub.execute_input": "2024-07-13T10:22:01.910890Z",
     "iopub.status.busy": "2024-07-13T10:22:01.910618Z",
     "iopub.status.idle": "2024-07-13T10:22:01.958947Z",
     "shell.execute_reply": "2024-07-13T10:22:01.958269Z"
    },
    "papermill": {
     "duration": 0.07243,
     "end_time": "2024-07-13T10:22:01.960959",
     "exception": false,
     "start_time": "2024-07-13T10:22:01.888529",
     "status": "completed"
    },
    "tags": []
   },
   "outputs": [],
   "source": [
    "from wordcloud import WordCloud\n",
    "wc=WordCloud(width=500,height=500,min_font_size=10,min_word_length=4,background_color='black')"
   ]
  },
  {
   "cell_type": "code",
   "execution_count": 33,
   "id": "31784a38",
   "metadata": {
    "execution": {
     "iopub.execute_input": "2024-07-13T10:22:02.004905Z",
     "iopub.status.busy": "2024-07-13T10:22:02.004516Z",
     "iopub.status.idle": "2024-07-13T10:22:03.141731Z",
     "shell.execute_reply": "2024-07-13T10:22:03.140804Z"
    },
    "papermill": {
     "duration": 1.162802,
     "end_time": "2024-07-13T10:22:03.145168",
     "exception": false,
     "start_time": "2024-07-13T10:22:01.982366",
     "status": "completed"
    },
    "tags": []
   },
   "outputs": [
    {
     "data": {
      "image/png": "[encoded data removed]",
      "text/plain": [
       "<Figure size 640x480 with 1 Axes>"
      ]
     },
     "metadata": {},
     "output_type": "display_data"
    }
   ],
   "source": [
    "# get the most frequently ham words\n",
    "ham_words=wc.generate(df[df['output']==0]['text_transform'].str.cat(sep=\" \"))\n",
    "plt.imshow(ham_words)\n",
    "plt.show()"
   ]
  },
  {
   "cell_type": "code",
   "execution_count": 34,
   "id": "70a49334",
   "metadata": {
    "execution": {
     "iopub.execute_input": "2024-07-13T10:22:03.197561Z",
     "iopub.status.busy": "2024-07-13T10:22:03.197280Z",
     "iopub.status.idle": "2024-07-13T10:22:03.925813Z",
     "shell.execute_reply": "2024-07-13T10:22:03.924904Z"
    },
    "papermill": {
     "duration": 0.758575,
     "end_time": "2024-07-13T10:22:03.928525",
     "exception": false,
     "start_time": "2024-07-13T10:22:03.169950",
     "status": "completed"
    },
    "tags": []
   },
   "outputs": [
    {
     "data": {
      "image/png": "[encoded data removed]",
      "text/plain": [
       "<Figure size 640x480 with 1 Axes>"
      ]
     },
     "metadata": {},
     "output_type": "display_data"
    }
   ],
   "source": [
    "# get the most frequently spam words\n",
    "spam_words=wc.generate(df[df['output']==1]['text_transform'].str.cat(sep=\" \"))\n",
    "plt.imshow(spam_words)\n",
    "plt.show()"
   ]
  },
  {
   "cell_type": "code",
   "execution_count": 35,
   "id": "7784db8c",
   "metadata": {
    "execution": {
     "iopub.execute_input": "2024-07-13T10:22:03.983468Z",
     "iopub.status.busy": "2024-07-13T10:22:03.983081Z",
     "iopub.status.idle": "2024-07-13T10:22:04.001997Z",
     "shell.execute_reply": "2024-07-13T10:22:04.001099Z"
    },
    "papermill": {
     "duration": 0.048449,
     "end_time": "2024-07-13T10:22:04.003894",
     "exception": false,
     "start_time": "2024-07-13T10:22:03.955445",
     "status": "completed"
    },
    "tags": []
   },
   "outputs": [
    {
     "data": {
      "text/html": [
       "<div>\n",
       "<style scoped>\n",
       "    .dataframe tbody tr th:only-of-type {\n",
       "        vertical-align: middle;\n",
       "    }\n",
       "\n",
       "    .dataframe tbody tr th {\n",
       "        vertical-align: top;\n",
       "    }\n",
       "\n",
       "    .dataframe thead th {\n",
       "        text-align: right;\n",
       "    }\n",
       "</style>\n",
       "<table border=\"1\" class=\"dataframe\">\n",
       "  <thead>\n",
       "    <tr style=\"text-align: right;\">\n",
       "      <th></th>\n",
       "      <th>0</th>\n",
       "      <th>1</th>\n",
       "    </tr>\n",
       "  </thead>\n",
       "  <tbody>\n",
       "    <tr>\n",
       "      <th>0</th>\n",
       "      <td>call</td>\n",
       "      <td>320</td>\n",
       "    </tr>\n",
       "    <tr>\n",
       "      <th>1</th>\n",
       "      <td>free</td>\n",
       "      <td>189</td>\n",
       "    </tr>\n",
       "    <tr>\n",
       "      <th>2</th>\n",
       "      <td>2</td>\n",
       "      <td>155</td>\n",
       "    </tr>\n",
       "    <tr>\n",
       "      <th>3</th>\n",
       "      <td>txt</td>\n",
       "      <td>141</td>\n",
       "    </tr>\n",
       "    <tr>\n",
       "      <th>4</th>\n",
       "      <td>text</td>\n",
       "      <td>122</td>\n",
       "    </tr>\n",
       "    <tr>\n",
       "      <th>5</th>\n",
       "      <td>u</td>\n",
       "      <td>119</td>\n",
       "    </tr>\n",
       "    <tr>\n",
       "      <th>6</th>\n",
       "      <td>ur</td>\n",
       "      <td>119</td>\n",
       "    </tr>\n",
       "    <tr>\n",
       "      <th>7</th>\n",
       "      <td>mobil</td>\n",
       "      <td>114</td>\n",
       "    </tr>\n",
       "    <tr>\n",
       "      <th>8</th>\n",
       "      <td>stop</td>\n",
       "      <td>104</td>\n",
       "    </tr>\n",
       "    <tr>\n",
       "      <th>9</th>\n",
       "      <td>repli</td>\n",
       "      <td>103</td>\n",
       "    </tr>\n",
       "    <tr>\n",
       "      <th>10</th>\n",
       "      <td>claim</td>\n",
       "      <td>98</td>\n",
       "    </tr>\n",
       "    <tr>\n",
       "      <th>11</th>\n",
       "      <td>prize</td>\n",
       "      <td>82</td>\n",
       "    </tr>\n",
       "    <tr>\n",
       "      <th>12</th>\n",
       "      <td>4</td>\n",
       "      <td>76</td>\n",
       "    </tr>\n",
       "    <tr>\n",
       "      <th>13</th>\n",
       "      <td>get</td>\n",
       "      <td>74</td>\n",
       "    </tr>\n",
       "    <tr>\n",
       "      <th>14</th>\n",
       "      <td>new</td>\n",
       "      <td>64</td>\n",
       "    </tr>\n",
       "    <tr>\n",
       "      <th>15</th>\n",
       "      <td>servic</td>\n",
       "      <td>64</td>\n",
       "    </tr>\n",
       "    <tr>\n",
       "      <th>16</th>\n",
       "      <td>tone</td>\n",
       "      <td>63</td>\n",
       "    </tr>\n",
       "    <tr>\n",
       "      <th>17</th>\n",
       "      <td>send</td>\n",
       "      <td>60</td>\n",
       "    </tr>\n",
       "    <tr>\n",
       "      <th>18</th>\n",
       "      <td>urgent</td>\n",
       "      <td>57</td>\n",
       "    </tr>\n",
       "    <tr>\n",
       "      <th>19</th>\n",
       "      <td>nokia</td>\n",
       "      <td>57</td>\n",
       "    </tr>\n",
       "    <tr>\n",
       "      <th>20</th>\n",
       "      <td>contact</td>\n",
       "      <td>56</td>\n",
       "    </tr>\n",
       "    <tr>\n",
       "      <th>21</th>\n",
       "      <td>award</td>\n",
       "      <td>55</td>\n",
       "    </tr>\n",
       "    <tr>\n",
       "      <th>22</th>\n",
       "      <td>phone</td>\n",
       "      <td>52</td>\n",
       "    </tr>\n",
       "    <tr>\n",
       "      <th>23</th>\n",
       "      <td>cash</td>\n",
       "      <td>51</td>\n",
       "    </tr>\n",
       "    <tr>\n",
       "      <th>24</th>\n",
       "      <td>pleas</td>\n",
       "      <td>50</td>\n",
       "    </tr>\n",
       "    <tr>\n",
       "      <th>25</th>\n",
       "      <td>week</td>\n",
       "      <td>49</td>\n",
       "    </tr>\n",
       "    <tr>\n",
       "      <th>26</th>\n",
       "      <td>win</td>\n",
       "      <td>48</td>\n",
       "    </tr>\n",
       "    <tr>\n",
       "      <th>27</th>\n",
       "      <td>c</td>\n",
       "      <td>45</td>\n",
       "    </tr>\n",
       "    <tr>\n",
       "      <th>28</th>\n",
       "      <td>collect</td>\n",
       "      <td>45</td>\n",
       "    </tr>\n",
       "    <tr>\n",
       "      <th>29</th>\n",
       "      <td>min</td>\n",
       "      <td>45</td>\n",
       "    </tr>\n",
       "    <tr>\n",
       "      <th>30</th>\n",
       "      <td>custom</td>\n",
       "      <td>42</td>\n",
       "    </tr>\n",
       "    <tr>\n",
       "      <th>31</th>\n",
       "      <td>guarante</td>\n",
       "      <td>42</td>\n",
       "    </tr>\n",
       "    <tr>\n",
       "      <th>32</th>\n",
       "      <td>messag</td>\n",
       "      <td>40</td>\n",
       "    </tr>\n",
       "    <tr>\n",
       "      <th>33</th>\n",
       "      <td>per</td>\n",
       "      <td>39</td>\n",
       "    </tr>\n",
       "    <tr>\n",
       "      <th>34</th>\n",
       "      <td>chat</td>\n",
       "      <td>38</td>\n",
       "    </tr>\n",
       "    <tr>\n",
       "      <th>35</th>\n",
       "      <td>tri</td>\n",
       "      <td>37</td>\n",
       "    </tr>\n",
       "    <tr>\n",
       "      <th>36</th>\n",
       "      <td>draw</td>\n",
       "      <td>35</td>\n",
       "    </tr>\n",
       "    <tr>\n",
       "      <th>37</th>\n",
       "      <td>number</td>\n",
       "      <td>35</td>\n",
       "    </tr>\n",
       "    <tr>\n",
       "      <th>38</th>\n",
       "      <td>cs</td>\n",
       "      <td>35</td>\n",
       "    </tr>\n",
       "    <tr>\n",
       "      <th>39</th>\n",
       "      <td>msg</td>\n",
       "      <td>34</td>\n",
       "    </tr>\n",
       "    <tr>\n",
       "      <th>40</th>\n",
       "      <td>show</td>\n",
       "      <td>33</td>\n",
       "    </tr>\n",
       "    <tr>\n",
       "      <th>41</th>\n",
       "      <td>today</td>\n",
       "      <td>33</td>\n",
       "    </tr>\n",
       "    <tr>\n",
       "      <th>42</th>\n",
       "      <td>offer</td>\n",
       "      <td>33</td>\n",
       "    </tr>\n",
       "    <tr>\n",
       "      <th>43</th>\n",
       "      <td>line</td>\n",
       "      <td>33</td>\n",
       "    </tr>\n",
       "    <tr>\n",
       "      <th>44</th>\n",
       "      <td>go</td>\n",
       "      <td>32</td>\n",
       "    </tr>\n",
       "    <tr>\n",
       "      <th>45</th>\n",
       "      <td>receiv</td>\n",
       "      <td>31</td>\n",
       "    </tr>\n",
       "    <tr>\n",
       "      <th>46</th>\n",
       "      <td>want</td>\n",
       "      <td>31</td>\n",
       "    </tr>\n",
       "    <tr>\n",
       "      <th>47</th>\n",
       "      <td>latest</td>\n",
       "      <td>30</td>\n",
       "    </tr>\n",
       "    <tr>\n",
       "      <th>48</th>\n",
       "      <td>rington</td>\n",
       "      <td>30</td>\n",
       "    </tr>\n",
       "    <tr>\n",
       "      <th>49</th>\n",
       "      <td>landlin</td>\n",
       "      <td>30</td>\n",
       "    </tr>\n",
       "  </tbody>\n",
       "</table>\n",
       "</div>"
      ],
      "text/plain": [
       "           0    1\n",
       "0       call  320\n",
       "1       free  189\n",
       "2          2  155\n",
       "3        txt  141\n",
       "4       text  122\n",
       "5          u  119\n",
       "6         ur  119\n",
       "7      mobil  114\n",
       "8       stop  104\n",
       "9      repli  103\n",
       "10     claim   98\n",
       "11     prize   82\n",
       "12         4   76\n",
       "13       get   74\n",
       "14       new   64\n",
       "15    servic   64\n",
       "16      tone   63\n",
       "17      send   60\n",
       "18    urgent   57\n",
       "19     nokia   57\n",
       "20   contact   56\n",
       "21     award   55\n",
       "22     phone   52\n",
       "23      cash   51\n",
       "24     pleas   50\n",
       "25      week   49\n",
       "26       win   48\n",
       "27         c   45\n",
       "28   collect   45\n",
       "29       min   45\n",
       "30    custom   42\n",
       "31  guarante   42\n",
       "32    messag   40\n",
       "33       per   39\n",
       "34      chat   38\n",
       "35       tri   37\n",
       "36      draw   35\n",
       "37    number   35\n",
       "38        cs   35\n",
       "39       msg   34\n",
       "40      show   33\n",
       "41     today   33\n",
       "42     offer   33\n",
       "43      line   33\n",
       "44        go   32\n",
       "45    receiv   31\n",
       "46      want   31\n",
       "47    latest   30\n",
       "48   rington   30\n",
       "49   landlin   30"
      ]
     },
     "execution_count": 35,
     "metadata": {},
     "output_type": "execute_result"
    }
   ],
   "source": [
    "spam_corpus=[]\n",
    "for msg in df[df['output']==1]['text_transform'].tolist():\n",
    "    for word in msg.split():\n",
    "        spam_corpus.append(word)\n",
    "        \n",
    "        \n",
    "# get the 50 most frequent words in spam emails/SMS\n",
    "from collections import Counter\n",
    "pd.DataFrame(Counter(spam_corpus).most_common(50))"
   ]
  },
  {
   "cell_type": "code",
   "execution_count": 36,
   "id": "105f1adb",
   "metadata": {
    "execution": {
     "iopub.execute_input": "2024-07-13T10:22:04.059138Z",
     "iopub.status.busy": "2024-07-13T10:22:04.058840Z",
     "iopub.status.idle": "2024-07-13T10:22:04.085079Z",
     "shell.execute_reply": "2024-07-13T10:22:04.084218Z"
    },
    "papermill": {
     "duration": 0.056048,
     "end_time": "2024-07-13T10:22:04.087132",
     "exception": false,
     "start_time": "2024-07-13T10:22:04.031084",
     "status": "completed"
    },
    "tags": []
   },
   "outputs": [
    {
     "data": {
      "text/html": [
       "<div>\n",
       "<style scoped>\n",
       "    .dataframe tbody tr th:only-of-type {\n",
       "        vertical-align: middle;\n",
       "    }\n",
       "\n",
       "    .dataframe tbody tr th {\n",
       "        vertical-align: top;\n",
       "    }\n",
       "\n",
       "    .dataframe thead th {\n",
       "        text-align: right;\n",
       "    }\n",
       "</style>\n",
       "<table border=\"1\" class=\"dataframe\">\n",
       "  <thead>\n",
       "    <tr style=\"text-align: right;\">\n",
       "      <th></th>\n",
       "      <th>0</th>\n",
       "      <th>1</th>\n",
       "    </tr>\n",
       "  </thead>\n",
       "  <tbody>\n",
       "    <tr>\n",
       "      <th>0</th>\n",
       "      <td>u</td>\n",
       "      <td>871</td>\n",
       "    </tr>\n",
       "    <tr>\n",
       "      <th>1</th>\n",
       "      <td>go</td>\n",
       "      <td>401</td>\n",
       "    </tr>\n",
       "    <tr>\n",
       "      <th>2</th>\n",
       "      <td>get</td>\n",
       "      <td>349</td>\n",
       "    </tr>\n",
       "    <tr>\n",
       "      <th>3</th>\n",
       "      <td>gt</td>\n",
       "      <td>288</td>\n",
       "    </tr>\n",
       "    <tr>\n",
       "      <th>4</th>\n",
       "      <td>lt</td>\n",
       "      <td>287</td>\n",
       "    </tr>\n",
       "    <tr>\n",
       "      <th>5</th>\n",
       "      <td>2</td>\n",
       "      <td>284</td>\n",
       "    </tr>\n",
       "    <tr>\n",
       "      <th>6</th>\n",
       "      <td>come</td>\n",
       "      <td>272</td>\n",
       "    </tr>\n",
       "    <tr>\n",
       "      <th>7</th>\n",
       "      <td>got</td>\n",
       "      <td>236</td>\n",
       "    </tr>\n",
       "    <tr>\n",
       "      <th>8</th>\n",
       "      <td>like</td>\n",
       "      <td>234</td>\n",
       "    </tr>\n",
       "    <tr>\n",
       "      <th>9</th>\n",
       "      <td>know</td>\n",
       "      <td>234</td>\n",
       "    </tr>\n",
       "    <tr>\n",
       "      <th>10</th>\n",
       "      <td>call</td>\n",
       "      <td>232</td>\n",
       "    </tr>\n",
       "    <tr>\n",
       "      <th>11</th>\n",
       "      <td>time</td>\n",
       "      <td>217</td>\n",
       "    </tr>\n",
       "    <tr>\n",
       "      <th>12</th>\n",
       "      <td>good</td>\n",
       "      <td>212</td>\n",
       "    </tr>\n",
       "    <tr>\n",
       "      <th>13</th>\n",
       "      <td>want</td>\n",
       "      <td>208</td>\n",
       "    </tr>\n",
       "    <tr>\n",
       "      <th>14</th>\n",
       "      <td>ok</td>\n",
       "      <td>207</td>\n",
       "    </tr>\n",
       "    <tr>\n",
       "      <th>15</th>\n",
       "      <td>love</td>\n",
       "      <td>206</td>\n",
       "    </tr>\n",
       "    <tr>\n",
       "      <th>16</th>\n",
       "      <td>ur</td>\n",
       "      <td>197</td>\n",
       "    </tr>\n",
       "    <tr>\n",
       "      <th>17</th>\n",
       "      <td>day</td>\n",
       "      <td>184</td>\n",
       "    </tr>\n",
       "    <tr>\n",
       "      <th>18</th>\n",
       "      <td>need</td>\n",
       "      <td>170</td>\n",
       "    </tr>\n",
       "    <tr>\n",
       "      <th>19</th>\n",
       "      <td>one</td>\n",
       "      <td>164</td>\n",
       "    </tr>\n",
       "    <tr>\n",
       "      <th>20</th>\n",
       "      <td>4</td>\n",
       "      <td>155</td>\n",
       "    </tr>\n",
       "    <tr>\n",
       "      <th>21</th>\n",
       "      <td>lor</td>\n",
       "      <td>153</td>\n",
       "    </tr>\n",
       "    <tr>\n",
       "      <th>22</th>\n",
       "      <td>think</td>\n",
       "      <td>149</td>\n",
       "    </tr>\n",
       "    <tr>\n",
       "      <th>23</th>\n",
       "      <td>home</td>\n",
       "      <td>149</td>\n",
       "    </tr>\n",
       "    <tr>\n",
       "      <th>24</th>\n",
       "      <td>see</td>\n",
       "      <td>145</td>\n",
       "    </tr>\n",
       "    <tr>\n",
       "      <th>25</th>\n",
       "      <td>still</td>\n",
       "      <td>142</td>\n",
       "    </tr>\n",
       "    <tr>\n",
       "      <th>26</th>\n",
       "      <td>take</td>\n",
       "      <td>141</td>\n",
       "    </tr>\n",
       "    <tr>\n",
       "      <th>27</th>\n",
       "      <td>da</td>\n",
       "      <td>133</td>\n",
       "    </tr>\n",
       "    <tr>\n",
       "      <th>28</th>\n",
       "      <td>tell</td>\n",
       "      <td>133</td>\n",
       "    </tr>\n",
       "    <tr>\n",
       "      <th>29</th>\n",
       "      <td>make</td>\n",
       "      <td>129</td>\n",
       "    </tr>\n",
       "    <tr>\n",
       "      <th>30</th>\n",
       "      <td>say</td>\n",
       "      <td>127</td>\n",
       "    </tr>\n",
       "    <tr>\n",
       "      <th>31</th>\n",
       "      <td>back</td>\n",
       "      <td>126</td>\n",
       "    </tr>\n",
       "    <tr>\n",
       "      <th>32</th>\n",
       "      <td>hope</td>\n",
       "      <td>122</td>\n",
       "    </tr>\n",
       "    <tr>\n",
       "      <th>33</th>\n",
       "      <td>ask</td>\n",
       "      <td>121</td>\n",
       "    </tr>\n",
       "    <tr>\n",
       "      <th>34</th>\n",
       "      <td>n</td>\n",
       "      <td>120</td>\n",
       "    </tr>\n",
       "    <tr>\n",
       "      <th>35</th>\n",
       "      <td>sorri</td>\n",
       "      <td>120</td>\n",
       "    </tr>\n",
       "    <tr>\n",
       "      <th>36</th>\n",
       "      <td>send</td>\n",
       "      <td>120</td>\n",
       "    </tr>\n",
       "    <tr>\n",
       "      <th>37</th>\n",
       "      <td>r</td>\n",
       "      <td>120</td>\n",
       "    </tr>\n",
       "    <tr>\n",
       "      <th>38</th>\n",
       "      <td>dont</td>\n",
       "      <td>118</td>\n",
       "    </tr>\n",
       "    <tr>\n",
       "      <th>39</th>\n",
       "      <td>work</td>\n",
       "      <td>117</td>\n",
       "    </tr>\n",
       "    <tr>\n",
       "      <th>40</th>\n",
       "      <td>today</td>\n",
       "      <td>116</td>\n",
       "    </tr>\n",
       "    <tr>\n",
       "      <th>41</th>\n",
       "      <td>meet</td>\n",
       "      <td>112</td>\n",
       "    </tr>\n",
       "    <tr>\n",
       "      <th>42</th>\n",
       "      <td>hi</td>\n",
       "      <td>110</td>\n",
       "    </tr>\n",
       "    <tr>\n",
       "      <th>43</th>\n",
       "      <td>thing</td>\n",
       "      <td>108</td>\n",
       "    </tr>\n",
       "    <tr>\n",
       "      <th>44</th>\n",
       "      <td>well</td>\n",
       "      <td>107</td>\n",
       "    </tr>\n",
       "    <tr>\n",
       "      <th>45</th>\n",
       "      <td>much</td>\n",
       "      <td>107</td>\n",
       "    </tr>\n",
       "    <tr>\n",
       "      <th>46</th>\n",
       "      <td>night</td>\n",
       "      <td>107</td>\n",
       "    </tr>\n",
       "    <tr>\n",
       "      <th>47</th>\n",
       "      <td>oh</td>\n",
       "      <td>106</td>\n",
       "    </tr>\n",
       "    <tr>\n",
       "      <th>48</th>\n",
       "      <td>wat</td>\n",
       "      <td>103</td>\n",
       "    </tr>\n",
       "    <tr>\n",
       "      <th>49</th>\n",
       "      <td>miss</td>\n",
       "      <td>102</td>\n",
       "    </tr>\n",
       "  </tbody>\n",
       "</table>\n",
       "</div>"
      ],
      "text/plain": [
       "        0    1\n",
       "0       u  871\n",
       "1      go  401\n",
       "2     get  349\n",
       "3      gt  288\n",
       "4      lt  287\n",
       "5       2  284\n",
       "6    come  272\n",
       "7     got  236\n",
       "8    like  234\n",
       "9    know  234\n",
       "10   call  232\n",
       "11   time  217\n",
       "12   good  212\n",
       "13   want  208\n",
       "14     ok  207\n",
       "15   love  206\n",
       "16     ur  197\n",
       "17    day  184\n",
       "18   need  170\n",
       "19    one  164\n",
       "20      4  155\n",
       "21    lor  153\n",
       "22  think  149\n",
       "23   home  149\n",
       "24    see  145\n",
       "25  still  142\n",
       "26   take  141\n",
       "27     da  133\n",
       "28   tell  133\n",
       "29   make  129\n",
       "30    say  127\n",
       "31   back  126\n",
       "32   hope  122\n",
       "33    ask  121\n",
       "34      n  120\n",
       "35  sorri  120\n",
       "36   send  120\n",
       "37      r  120\n",
       "38   dont  118\n",
       "39   work  117\n",
       "40  today  116\n",
       "41   meet  112\n",
       "42     hi  110\n",
       "43  thing  108\n",
       "44   well  107\n",
       "45   much  107\n",
       "46  night  107\n",
       "47     oh  106\n",
       "48    wat  103\n",
       "49   miss  102"
      ]
     },
     "execution_count": 36,
     "metadata": {},
     "output_type": "execute_result"
    }
   ],
   "source": [
    "ham_corpus=[]\n",
    "for msg in df[df['output']==0]['text_transform'].tolist():\n",
    "    for word in msg.split():\n",
    "        ham_corpus.append(word)\n",
    "        \n",
    "        \n",
    "# get the 50 most frequent words in ham emails/SMS        \n",
    "from collections import Counter\n",
    "pd.DataFrame(Counter(ham_corpus).most_common(50))"
   ]
  },
  {
   "cell_type": "code",
   "execution_count": 37,
   "id": "cc54917f",
   "metadata": {
    "execution": {
     "iopub.execute_input": "2024-07-13T10:22:04.253068Z",
     "iopub.status.busy": "2024-07-13T10:22:04.252413Z",
     "iopub.status.idle": "2024-07-13T10:22:04.443624Z",
     "shell.execute_reply": "2024-07-13T10:22:04.442615Z"
    },
    "papermill": {
     "duration": 0.221801,
     "end_time": "2024-07-13T10:22:04.445956",
     "exception": false,
     "start_time": "2024-07-13T10:22:04.224155",
     "status": "completed"
    },
    "tags": []
   },
   "outputs": [],
   "source": [
    "from sklearn.feature_extraction.text import CountVectorizer,TfidfVectorizer\n",
    "\n",
    "cv = CountVectorizer()\n",
    "tfidf = TfidfVectorizer(max_features=3000)\n",
    "\n",
    "#feature selection\n",
    "X = tfidf.fit_transform(df['text_transform']).toarray()\n",
    "y=df['output'].values"
   ]
  },
  {
   "cell_type": "code",
   "execution_count": 38,
   "id": "ea199ac9",
   "metadata": {
    "execution": {
     "iopub.execute_input": "2024-07-13T10:22:04.503562Z",
     "iopub.status.busy": "2024-07-13T10:22:04.503236Z",
     "iopub.status.idle": "2024-07-13T10:22:04.565609Z",
     "shell.execute_reply": "2024-07-13T10:22:04.564469Z"
    },
    "papermill": {
     "duration": 0.093388,
     "end_time": "2024-07-13T10:22:04.567808",
     "exception": false,
     "start_time": "2024-07-13T10:22:04.474420",
     "status": "completed"
    },
    "tags": []
   },
   "outputs": [
    {
     "name": "stdout",
     "output_type": "stream",
     "text": [
      "Shape of X_train: (4135, 3000)\n",
      "Shape of y_train: (4135,)\n",
      "Shape of X_test: (1034, 3000)\n",
      "Shape of y_test: (1034,)\n"
     ]
    }
   ],
   "source": [
    "from sklearn.model_selection import train_test_split \n",
    "\n",
    "#splitting\n",
    "X_train,X_test,y_train,y_test=train_test_split(X,y,test_size=.2,random_state=1,stratify=y,shuffle=True)\n",
    "\n",
    "print(\"Shape of X_train:\", X_train.shape)\n",
    "print(\"Shape of y_train:\", y_train.shape)\n",
    "print(\"Shape of X_test:\", X_test.shape)\n",
    "print(\"Shape of y_test:\", y_test.shape)"
   ]
  },
  {
   "cell_type": "code",
   "execution_count": 39,
   "id": "d41d64d7",
   "metadata": {
    "execution": {
     "iopub.execute_input": "2024-07-13T10:22:04.625732Z",
     "iopub.status.busy": "2024-07-13T10:22:04.624898Z",
     "iopub.status.idle": "2024-07-13T10:22:04.631315Z",
     "shell.execute_reply": "2024-07-13T10:22:04.630497Z"
    },
    "papermill": {
     "duration": 0.03749,
     "end_time": "2024-07-13T10:22:04.633171",
     "exception": false,
     "start_time": "2024-07-13T10:22:04.595681",
     "status": "completed"
    },
    "tags": []
   },
   "outputs": [],
   "source": [
    "from sklearn.naive_bayes import GaussianNB ,MultinomialNB,BernoulliNB\n",
    "from sklearn.metrics import accuracy_score ,confusion_matrix,classification_report"
   ]
  },
  {
   "cell_type": "code",
   "execution_count": 40,
   "id": "3367a0ef",
   "metadata": {
    "execution": {
     "iopub.execute_input": "2024-07-13T10:22:04.743246Z",
     "iopub.status.busy": "2024-07-13T10:22:04.742749Z",
     "iopub.status.idle": "2024-07-13T10:22:05.135519Z",
     "shell.execute_reply": "2024-07-13T10:22:05.134560Z"
    },
    "papermill": {
     "duration": 0.42298,
     "end_time": "2024-07-13T10:22:05.137693",
     "exception": false,
     "start_time": "2024-07-13T10:22:04.714713",
     "status": "completed"
    },
    "tags": []
   },
   "outputs": [
    {
     "name": "stdout",
     "output_type": "stream",
     "text": [
      "0.8646034816247582\n",
      "[[777 126]\n",
      " [ 14 117]]\n",
      "              precision    recall  f1-score   support\n",
      "\n",
      "           0       0.98      0.86      0.92       903\n",
      "           1       0.48      0.89      0.63       131\n",
      "\n",
      "    accuracy                           0.86      1034\n",
      "   macro avg       0.73      0.88      0.77      1034\n",
      "weighted avg       0.92      0.86      0.88      1034\n",
      "\n"
     ]
    },
    {
     "data": {
      "image/png": "[encoded data removed]",
      "text/plain": [
       "<Figure size 800x600 with 1 Axes>"
      ]
     },
     "metadata": {},
     "output_type": "display_data"
    }
   ],
   "source": [
    "gnb=GaussianNB()\n",
    "\n",
    "gnb.fit(X_train,y_train)\n",
    "y_pred_gnb=gnb.predict(X_test)\n",
    "\n",
    "print(accuracy_score(y_test,y_pred_gnb))\n",
    "print(confusion_matrix(y_test,y_pred_gnb))\n",
    "print(classification_report(y_test,y_pred_gnb))\n",
    "\n",
    "cm = confusion_matrix(y_test, y_pred_gnb)\n",
    "plt.figure(figsize=(8, 6))\n",
    "sns.heatmap(cm, annot=True, cmap='Blues', fmt='d', cbar=False)\n",
    "plt.xlabel('Predicted labels')\n",
    "plt.ylabel('True labels')\n",
    "plt.title('Confusion Matrix')\n",
    "plt.show()\n"
   ]
  },
  {
   "cell_type": "code",
   "execution_count": 41,
   "id": "d946db5c",
   "metadata": {
    "execution": {
     "iopub.execute_input": "2024-07-13T10:22:05.250855Z",
     "iopub.status.busy": "2024-07-13T10:22:05.250568Z",
     "iopub.status.idle": "2024-07-13T10:22:05.498754Z",
     "shell.execute_reply": "2024-07-13T10:22:05.497870Z"
    },
    "papermill": {
     "duration": 0.278566,
     "end_time": "2024-07-13T10:22:05.500698",
     "exception": false,
     "start_time": "2024-07-13T10:22:05.222132",
     "status": "completed"
    },
    "tags": []
   },
   "outputs": [
    {
     "name": "stdout",
     "output_type": "stream",
     "text": [
      "0.9777562862669246\n",
      "[[902   1]\n",
      " [ 22 109]]\n",
      "              precision    recall  f1-score   support\n",
      "\n",
      "           0       0.98      1.00      0.99       903\n",
      "           1       0.99      0.83      0.90       131\n",
      "\n",
      "    accuracy                           0.98      1034\n",
      "   macro avg       0.98      0.92      0.95      1034\n",
      "weighted avg       0.98      0.98      0.98      1034\n",
      "\n"
     ]
    },
    {
     "data": {
      "image/png": "[encoded data removed]",
      "text/plain": [
       "<Figure size 800x600 with 1 Axes>"
      ]
     },
     "metadata": {},
     "output_type": "display_data"
    }
   ],
   "source": [
    "mnb=MultinomialNB()\n",
    "\n",
    "mnb.fit(X_train,y_train)\n",
    "y_pred_mnb=mnb.predict(X_test)\n",
    "\n",
    "print(accuracy_score(y_test,y_pred_mnb))\n",
    "print(confusion_matrix(y_test,y_pred_mnb))\n",
    "print(classification_report(y_test,y_pred_mnb))\n",
    "\n",
    "cm = confusion_matrix(y_test, y_pred_mnb)\n",
    "plt.figure(figsize=(8, 6))\n",
    "sns.heatmap(cm, annot=True, cmap='Blues', fmt='d', cbar=False)\n",
    "plt.xlabel('Predicted labels')\n",
    "plt.ylabel('True labels')\n",
    "plt.title('Confusion Matrix')\n",
    "plt.show()"
   ]
  },
  {
   "cell_type": "code",
   "execution_count": 42,
   "id": "583f3017",
   "metadata": {
    "execution": {
     "iopub.execute_input": "2024-07-13T10:22:05.617565Z",
     "iopub.status.busy": "2024-07-13T10:22:05.616734Z",
     "iopub.status.idle": "2024-07-13T10:22:05.960626Z",
     "shell.execute_reply": "2024-07-13T10:22:05.959800Z"
    },
    "papermill": {
     "duration": 0.375544,
     "end_time": "2024-07-13T10:22:05.962615",
     "exception": false,
     "start_time": "2024-07-13T10:22:05.587071",
     "status": "completed"
    },
    "tags": []
   },
   "outputs": [
    {
     "name": "stdout",
     "output_type": "stream",
     "text": [
      "0.9816247582205029\n",
      "[[901   2]\n",
      " [ 17 114]]\n",
      "              precision    recall  f1-score   support\n",
      "\n",
      "           0       0.98      1.00      0.99       903\n",
      "           1       0.98      0.87      0.92       131\n",
      "\n",
      "    accuracy                           0.98      1034\n",
      "   macro avg       0.98      0.93      0.96      1034\n",
      "weighted avg       0.98      0.98      0.98      1034\n",
      "\n"
     ]
    },
    {
     "data": {
      "image/png": "[encoded data removed]",
      "text/plain": [
       "<Figure size 800x600 with 1 Axes>"
      ]
     },
     "metadata": {},
     "output_type": "display_data"
    }
   ],
   "source": [
    "bnb=BernoulliNB()\n",
    "\n",
    "\n",
    "bnb.fit(X_train,y_train)\n",
    "y_pred_bnb=bnb.predict(X_test)\n",
    "\n",
    "print(accuracy_score(y_test,y_pred_bnb))\n",
    "print(confusion_matrix(y_test,y_pred_bnb))\n",
    "print(classification_report(y_test,y_pred_bnb))\n",
    "\n",
    "cm = confusion_matrix(y_test, y_pred_bnb)\n",
    "plt.figure(figsize=(8, 6))\n",
    "sns.heatmap(cm, annot=True, cmap='Blues', fmt='d', cbar=False)\n",
    "plt.xlabel('Predicted labels')\n",
    "plt.ylabel('True labels')\n",
    "plt.title('Confusion Matrix')\n",
    "plt.show()"
   ]
  },
  {
   "cell_type": "code",
   "execution_count": 43,
   "id": "e4395fb9",
   "metadata": {
    "execution": {
     "iopub.execute_input": "2024-07-13T10:22:06.079511Z",
     "iopub.status.busy": "2024-07-13T10:22:06.078973Z",
     "iopub.status.idle": "2024-07-13T10:22:06.098052Z",
     "shell.execute_reply": "2024-07-13T10:22:06.097141Z"
    },
    "papermill": {
     "duration": 0.051488,
     "end_time": "2024-07-13T10:22:06.100054",
     "exception": false,
     "start_time": "2024-07-13T10:22:06.048566",
     "status": "completed"
    },
    "tags": []
   },
   "outputs": [],
   "source": [
    "#saving the model\n",
    "import pickle\n",
    "pickle.dump(tfidf,open('vectorizer.pkl','wb'))\n",
    "pickle.dump(mnb,open('model.pkl','wb'))"
   ]
  }
 ],
 "metadata": {
  "kaggle": {
   "accelerator": "gpu",
   "dataSources": [
    {
     "datasetId": 483,
     "sourceId": 982,
     "sourceType": "datasetVersion"
    }
   ],
   "dockerImageVersionId": 30747,
   "isGpuEnabled": true,
   "isInternetEnabled": true,
   "language": "python",
   "sourceType": "notebook"
  },
  "kernelspec": {
   "display_name": "Python 3 (ipykernel)",
   "language": "python",
   "name": "python3"
  },
  "language_info": {
   "codemirror_mode": {
    "name": "ipython",
    "version": 3
   },
   "file_extension": ".py",
   "mimetype": "text/x-python",
   "name": "python",
   "nbconvert_exporter": "python",
   "pygments_lexer": "ipython3",
   "version": "3.12.3"
  },
  "papermill": {
   "default_parameters": {},
   "duration": 28.469528,
   "end_time": "2024-07-13T10:22:06.707948",
   "environment_variables": {},
   "exception": null,
   "input_path": "__notebook__.ipynb",
   "output_path": "__notebook__.ipynb",
   "parameters": {},
   "start_time": "2024-07-13T10:21:38.238420",
   "version": "2.5.0"
  }
 },
 "nbformat": 4,
 "nbformat_minor": 5
}
